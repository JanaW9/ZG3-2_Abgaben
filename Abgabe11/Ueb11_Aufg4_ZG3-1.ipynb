{
 "cells": [
  {
   "cell_type": "markdown",
   "id": "4fad00eb",
   "metadata": {},
   "source": [
    "## Aufgabe 4 (Typ C)\n",
    "Folgende Aufgaben sind mit Hilfe von Dictionaries zu lösen. Hierbei sollen aktuelle Blutdruckwerte \n",
    "von Patienten verwaltet werden; zunächst nur jeweils ein systolischer Blutdruckwert pro Patienten, \n",
    "später sowohl ein systolischer als auch ein diastolischer Blutdruckwert.\n",
    "a)    \n",
    "• Speichern Sie in einem eindimensionalen Dictionary für die zwei Patienten (= keys des \n",
    "Dictionaries) 'Egon' und 'Luise' ihre systolischen Blutdruckwerte 180 bzw. 110\n",
    "• Überprüfen Sie danach zunächst, ob sich der key 'Egon' tatsächlich in ihrem Dictionary befindet     \n",
    "und geben Sie alle aktuellen keys des Dictionaries aus     \n",
    "• Geben Sie dann den systolischen Blutdruckwert von Egon aus (durch entsprechenden Zugriff \n",
    "auf das Dictionary)    \n",
    "• Fügen Sie nun einen dritten Patienten 'Hansi' mit einem systolischen Blutdruckwert von 140    \n",
    "hinzu und überprüfen Sie durch Ausgabe des gesamten aktuellen Dictionaries, ob dieser Patient     \n",
    "korrekt hinzugefügt wurde    \n",
    "• Löschen Sie danach wieder die Daten vom Patienten 'Hansi' aus dem Dictionary und überprüfen     \n",
    "Sie durch erneute Ausgabe des gesamten aktuellen Dictionaries, ob dieser Patient korrekt      \n",
    "gelöscht wurde     \n",
    "Am Bildschirm sollte dann beim Ausführen Ihres Programms etwa Folgendes erscheinen:      \n",
    "True    \n",
    "dict_keys(['Egon', 'Luise'])    \n",
    "180    \n",
    "{'Egon': 180, 'Luise': 110, 'Hansi': 140}    \n",
    "140   \n",
    "{'Egon': 180, 'Luise': 110}    "
   ]
  },
  {
   "cell_type": "code",
   "execution_count": 1,
   "id": "de315667",
   "metadata": {},
   "outputs": [
    {
     "name": "stdout",
     "output_type": "stream",
     "text": [
      "True\n",
      "dict_keys(['Egon', 'Luise'])\n",
      "180\n",
      "{'Egon': 180, 'Luise': 110, 'Hansi': 140}\n",
      "140\n",
      "{'Egon': 180, 'Luise': 110}\n"
     ]
    }
   ],
   "source": [
    "dict_={'Egon':180,'Luise':110} #Dictionary zuweisung\n",
    "print('Egon'in dict_) #Prüft ob der Key Egon im Dictionary enthalten ist\n",
    "print(dict_.keys()) #Methodenaufruf, gib alle Keywords des Dictionary aus\n",
    "print(dict_['Egon']) #Gib das Value zum dazugehörigen Schlüssel aus\n",
    "dict_['Hansi']=140 #neues Key Value Paar initalisieren\n",
    "print(dict_) #Print aktuelles Dictionary\n",
    "print(dict_['Hansi']) #Ausgabe vom Value welches zu Hansi gehört\n",
    "del(dict_['Hansi']) # Key Value Paar wird gelöscht\n",
    "print(dict_)#akutelles Dictionary wird ausgegeben"
   ]
  },
  {
   "cell_type": "markdown",
   "id": "580051e9",
   "metadata": {},
   "source": [
    "## b)\n",
    "• Geben Sie jetzt mit Hilfe einer for-Schleife alle aktuellen Patienten des Dictionary mit Ihren \n",
    "systolischen Blutduckwerten aus\n",
    "Am Bildschirm sollte dann beim Ausführen Ihres Programms Folgendes erscheinen:\n",
    "Systol. Blutdr. von Egon: 180\n",
    "Systol. Blutdr. von Luise: 110"
   ]
  },
  {
   "cell_type": "code",
   "execution_count": 3,
   "id": "716d0477",
   "metadata": {},
   "outputs": [
    {
     "name": "stdout",
     "output_type": "stream",
     "text": [
      "Systol.Blutdr. von Egon : 180\n",
      "Systol.Blutdr. von Luise : 110\n"
     ]
    }
   ],
   "source": [
    "#b)\n",
    "for systole in dict_: #for Schleife systole als Referenzvariable die das Dictionary itariert\n",
    "    print(\"Systol.Blutdr. von\", systole,\":\",dict_[systole])  #Printanweisung mit Antwortsatz gibt Key und Value aus.\n"
   ]
  },
  {
   "cell_type": "markdown",
   "id": "694a17a3",
   "metadata": {},
   "source": [
    "## c)\n",
    "• Erstellen Sie ein neues Programm, in dem wieder die beiden obigen Patienten mit ihren \n",
    "systolischen Blutdruckwerten verwendet, dieses Mal aber jeweils neben dem systolischen auch \n",
    "ein diastolischer Wert gespeichert wird (95 bzw. 75)     \n",
    "• Geben Sie dann die beiden Blutdruckwerte von Egon aus (durch entsprechenden Zugriff auf \n",
    "das Dictionary)     \n",
    "• Fügen Sie nun wieder einen dritten Patienten 'Hansi' mit einem systolischen Blutdruckwert von     \n",
    "140 und einem diastolischen Blutdruckwert von 90 hinzu. Überprüfen Sie wieder durch     \n",
    "Ausgabe des gesamten aktuellen Dictionaries, ob dieser Patient korrekt hinzugefügt wurde    \n",
    "• Geben Sie zum Schluss den diastolischen Blutdruckwert von Hansi aus (durch entsprechenden     \n",
    "Zugriff auf das Dictionary)    \n",
    "Am Bildschirm sollte dann beim Ausführen Ihres Programms Folgendes erscheinen:    \n",
    "[180, 95]    \n",
    "{'Egon': [180, 95], 'Luise': [110, 75], 'Hansi': [130, 90]}    \n",
    "95    "
   ]
  },
  {
   "cell_type": "code",
   "execution_count": 4,
   "id": "3222fad2",
   "metadata": {},
   "outputs": [
    {
     "name": "stdout",
     "output_type": "stream",
     "text": [
      "[180, 95]\n",
      "{'Egon': [180, 95], 'Luise': [110, 75], 'Hansi': [130, 90]}\n",
      "90\n"
     ]
    }
   ],
   "source": [
    "#c)\n",
    "blutdr={'Egon':[180,95],'Luise':[110,75],} #zwei Values, also wird string liste zugeordnet\n",
    "print(blutdr['Egon']) #statt Index, Zugriff über Key gibt dann die Values aus, die dem Key zugeordet sind\n",
    "blutdr['Hansi']=[130,90] #neues Key Value Paar dem dictionary hinzugefügt\n",
    "print(blutdr) #aktuelle Version des Dictionary ausgeben\n",
    "print(blutdr['Hansi'][1])#der Index eckigen Klammer bezieht sich auf die Liste, die unter dem Key Hansi gespeichert ist. Das 2. Element der Liste =diastolischer Wert soll ausgegeben werden"
   ]
  },
  {
   "cell_type": "markdown",
   "id": "c53577ba",
   "metadata": {},
   "source": [
    "## d\n",
    "Erstellen Sie ein weiteres Programm, in dem Sie ihr Programm aus \n",
    "c) so verändern, dass Sie \n",
    "die folgende Aufgabenstellung mit Hilfe eines zweidimensionalen Dictionaries (mit den zusätzlichen keys 'Syst.' und 'Diast.') lösen    \n",
    "• Speichern Sie dabei die beiden Patienten Egon und Luise mit ihren jeweils zwei Blutdruckwerten (in einem zweidimensionalen Dictionary)    \n",
    "• Geben Sie auch hier die beiden Blutdruckwerte von Egon aus (durch entsprechenden Zugriff     \n",
    "auf das zweidimensionale Dictionary)    \n",
    "• Geben Sie zum Schluss nur den diastolischen Blutdruckwert von Egon aus (durch entsprechenden   Zugriff auf das zweidimensionale Dictionary "
   ]
  },
  {
   "cell_type": "code",
   "execution_count": 5,
   "id": "59077d19",
   "metadata": {},
   "outputs": [
    {
     "name": "stdout",
     "output_type": "stream",
     "text": [
      "{'Syst.': 180, 'Diast.': 95}\n",
      "95\n"
     ]
    }
   ],
   "source": [
    "#d)\n",
    "blutdr={'Egon':{'Syst.':180,'Diast.':95},'Luise':{'Syst':110,'Diast.':75}} #2 dimensionales Dictionary, einem Key wird ein Dictionary zugeordnet, systole und diastole sind Keys vom inneren Dictionary.\n",
    "print(blutdr['Egon']) #das Dictionary von Egon wird ausgegeben\n",
    "print(blutdr['Egon']['Diast.'])#nur der diastolische Wert (Value) der mit dem Key diastl. im Dictionary Egon gespeichert ist, wird ausgegeben."
   ]
  }
 ],
 "metadata": {
  "kernelspec": {
   "display_name": "Python 3",
   "language": "python",
   "name": "python3"
  },
  "language_info": {
   "codemirror_mode": {
    "name": "ipython",
    "version": 3
   },
   "file_extension": ".py",
   "mimetype": "text/x-python",
   "name": "python",
   "nbconvert_exporter": "python",
   "pygments_lexer": "ipython3",
   "version": "3.8.8"
  }
 },
 "nbformat": 4,
 "nbformat_minor": 5
}
