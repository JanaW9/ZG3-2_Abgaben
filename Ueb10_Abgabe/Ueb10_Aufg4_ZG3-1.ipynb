{
 "cells": [
  {
   "cell_type": "markdown",
   "id": "32f8adc9",
   "metadata": {},
   "source": [
    "## Aufgabe 4 (Typ C) ## \n",
    "Erweitern Sie das Programm aus Aufgabe 2b) dieses Übungsblattes:     \n",
    "Ermöglichen Sie, dass die Mitarbeiter mit ihrem Gehalt vom Benutzer eingegeben werden können (und      \n",
    "nicht vom Programmierer der Listenvariablen zugewiesen werden.) Benutzer Sie hierzu eine „Repeat‐    \n",
    "Until“‐Schleife, so wie man sie in Python realisieren kann (vgl. Aufgabe 2a)). Der Benutzer soll nach     \n",
    "Eingabe eines Mitarbeiters incl. Gehalts jeweils gefragt werden, ob er einen weiteren Mitarbeiter incl.      \n",
    "Gehalt eingeben möchte. (Nach Abschluss der Eingabe sollen alle Mitarbeiter und ihre Gehälter sowie    \n",
    "die Gehaltssumme ausgegeben werden.)     \n",
    "### Am Bildschirm sollte dann beim Ausführen Ihres Programms etwa Folgendes erscheinen:  ###       \n",
    "Eingabe des Mitarbeiters (Nachname) und seines Gehalts    \n",
    "Mitarbeiter: Mueller     \n",
    "Gehalt: 1000    \n",
    "Wollen Sie einen weiteren Mitarbeiter incl. Gehalt eingeben (j/n)?: j    \n",
    "Mitarbeiter: Meier    \n",
    "Gehalt: 2000    \n",
    "Wollen Sie einen weiteren Mitarbeiter incl. Gehalt eingeben (j/n)?: j    \n",
    "Mitarbeiter: Schulze    \n",
    "Gehalt: 3000     \n",
    "Wollen Sie einen weiteren Mitarbeiter incl. Gehalt eingeben (j/n)?: n \n",
    "\n",
    "Ausgabe von 3 Mitarbeiter(n) incl. Gehalt:     \n",
    "Mueller: 1000    \n",
    "Meier: 2000     \n",
    "Schulze: 3000   \n",
    "Gehaltssumme: 6000    "
   ]
  },
  {
   "cell_type": "code",
   "execution_count": null,
   "id": "40680d33",
   "metadata": {},
   "outputs": [],
   "source": [
    "#4)\n",
    "mitarbeiter_gehaelter=[] #Initialisierung einer leeren Liste\n",
    "while True: #while-Schleife, True Wahrheitswert, leitet eine Repeat-Until-Schleife ein\n",
    "    print(\"Eingabe des Mitarbeiters (Nachname) und seines Gehalts \") #Funktionsaufruf print\n",
    "    M=input(\"Mitarbeiter: \") #Zuweisungsanweisung, M bekommt Wert aus der Input-Funktion zugewiesen.\n",
    "    #Input erzwingt eine Eingabe vom Benutzer\n",
    "    G=input(\"Gehalt: \") # Zuweisungsanweisung, G bekommt Wert aus der Input-Funktion zugewiesen\n",
    "    mitarbeiter_gehaelter.append([M,G]) #Methodenaufruf/ Listenmethode append, fügt seine Parameter [M,G] an die Liste an\n",
    "    print(\"Wollen sie einen weiteren Mitarbeiter incl. Gehalt eingeben \", end=\"\")\n",
    "    #print-Funktion, optionaler Parameter end=\"\" verhindert Zeilenumsprung\n",
    "    A=input(\"(j/n)?: \") #Zuweisung Variable A, mit input-Funktion\n",
    "    if A==\"j\": #Bedingte-Anweisung if, mit Bedingung A muss gleich \"j\" sein\n",
    "        M=input(\"Mitarbeiter: \")\n",
    "        G=input(\"Gehalt: \")\n",
    "        mitarbeiter_gehaelter.append([M,G])\n",
    "        print(\"Wollen sie einen weiteren Mitarbeiter incl. Gehalt eingeben?: \",end=\"\")\n",
    "        A=input(\"(j/n)?: \")\n",
    "    if A!=\"j\": # Bedingte-Anweisung if, A muss ungleich j sein\n",
    "        L=len(mitarbeiter_gehaelter) # L Variable, Wert aus funktion len. len gibt Länge der Lsite aus.\n",
    "        #Da die Lsite mehrdimensional ist, wird nur die erste Ebene der Liste gezählt\n",
    "        print(\"Ausgabe von\",L,\"Mitarbeiter(n) incl. Gehalt:\")\n",
    "        break # Beendet die Schleife\n",
    "GS=0 #Variable GS für die Berechnung der Summe, vor aufsummmierung Summe=0\n",
    "for mg in mitarbeiter_gehaelter: #for-Schleife für Element mg in Liste mitarbeiter_gehaelter gilt\n",
    "    print(mg[0],\":\",mg[1]) #print-Funktion, Ertses Element der mehrdimensionalen Liste (also die erste Liste in dieser)\n",
    "    # der Name wird durch mg[0] aufgerufen und das Gehalt durch mg[1]\n",
    "    GS+=int(mg[1]) # GS bekommt neuen Wert. GS=GS+mg[1],explizite Typkonvertierung vom Gehalt in einen Integer\n",
    "print(\"Gehaltssumme: \", str(GS)) #print-Funktion, expliziete Typkonvertierung von Wert aus GS"
   ]
  },
  {
   "cell_type": "markdown",
   "id": "4c303f7b",
   "metadata": {},
   "source": [
    "## Aufgabe 5 (Typ C) ##\n",
    "Gegeben ist die zweidimensionale Liste [[11,1], [7,4,32], [6,4,55,77]]. Diese kann man sich als eine     \n",
    "Tabelle vorstellen mit Zeilen und Spalten, wobei z.B. in der ersten Zeile die Zahlen 11 und 1 stehen.\n",
    "Schreiben Sie ein Programm, in dem Sie mit Hilfe einer Konstruktion von zwei verschachtelten     \n",
    "Schleifen die Werte der zweidimensionalen Liste folgendermaßen formatiert am Bildschirm ausgeben:     \n",
    "111    \n",
    "7432     \n",
    "645577"
   ]
  },
  {
   "cell_type": "code",
   "execution_count": null,
   "id": "6fc5a79a",
   "metadata": {},
   "outputs": [],
   "source": [
    "#Variante1\n",
    "Liste=[[11,1],[7,4,32],[6,4,55,77]] #zweidimensionale Liste\n",
    "for elem in Liste:  #verschachtelte for Schleife, Schleifenkopf, elem Variable durchläuft Liste\n",
    "    for elem2 in elem:  #innere for schleife elem2 Variable durchläuft elem (die innere Liste)\n",
    "        print(str(elem2),end=\"\") #explizite Typkonvertierung in einen String ,optionaler Parameter end=\"\" verhindert Zeilenumbruch,damit alle Elemente der inneren Liste nebeneinander angezeigt werden\n",
    "    print(\"\\n\",end=\"\")   #Printanweisung, Escape Sequenz für Zeilenumbruch, optionaler Parameter end=\"\" damit die Elemente der inneren Liste nicht getrennt werden durch einen Zeilenumbruch."
   ]
  },
  {
   "cell_type": "code",
   "execution_count": null,
   "id": "1ea58e24",
   "metadata": {},
   "outputs": [],
   "source": [
    "#Variante2\n",
    "liste=[[11,1], [7,4,32], [6,4,55,77]] #mehrdimenisonale Liste unter Var. liste zugewisen\n",
    "s=0 #Zählvariable\n",
    "#Äußere Schleife\n",
    "while s<len(liste): #while-Schleife, Bedingung s kleiner Länge von Liste, durch Funktionsuafruf len\n",
    "    i=0 #Zählvariable\n",
    "    #Innere Schleife\n",
    "    while i<len(liste[s]): #while-Schleifenkopf, innen\n",
    "        print(liste[s][i], end=\"\") #print-Funktion, liste[s][i], im ersten durchlauf [0][0] also 11, optionaler Parameter\n",
    "        # end verhindert Zeilenumbruch\n",
    "        i=i+1 # modifikation\n",
    "    print(\"\") #Print-Funktion, zum trennen der Werte der mehrdimensionalen Liste bei der Ausgabe\n",
    "    s=s+1 #modifikation"
   ]
  },
  {
   "cell_type": "code",
   "execution_count": null,
   "id": "e9f9514a",
   "metadata": {},
   "outputs": [],
   "source": []
  }
 ],
 "metadata": {
  "kernelspec": {
   "display_name": "Python 3",
   "language": "python",
   "name": "python3"
  },
  "language_info": {
   "codemirror_mode": {
    "name": "ipython",
    "version": 3
   },
   "file_extension": ".py",
   "mimetype": "text/x-python",
   "name": "python",
   "nbconvert_exporter": "python",
   "pygments_lexer": "ipython3",
   "version": "3.8.8"
  }
 },
 "nbformat": 4,
 "nbformat_minor": 5
}
