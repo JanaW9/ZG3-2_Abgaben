{
 "cells": [
  {
   "cell_type": "markdown",
   "id": "b619418d",
   "metadata": {},
   "source": [
    "## a)"
   ]
  },
  {
   "cell_type": "code",
   "execution_count": 1,
   "id": "8a5d492b",
   "metadata": {},
   "outputs": [
    {
     "name": "stdout",
     "output_type": "stream",
     "text": [
      "Systol. Blutdruckwert 1:180\n",
      "Abbruch der Eingabe mit 'n' oder 'N', ansonsten z.B. 'Enter': \n",
      "Systol. Blutdruckwert 2:190\n",
      "Abbruch der Eingabe mit 'n' oder 'N', ansonsten z.B. 'Enter': n\n",
      "Ausgabe von 2 Blutdruckwerten:\n",
      "180\n",
      "190\n",
      "Mittelwert der eingegebenen Blutdruckwerte: 185.0\n"
     ]
    }
   ],
   "source": [
    "liste = [] #Listenvariable 'liste', wird durch den Zuweisungsoperator einer Liste zugewiesen\n",
    "t = 0 #Zählvariable 't' wird ein Wert zugewiesen, Erstzuweisung = Initialisierung\n",
    "while True: #Schleifenkopf von 'while-Schleife'. Repeat-Until-Schleife durch Bedingung 'true',\n",
    "            #Schleifenkopf wird geschloßen durch ':' + dadurch der Schleifenrumpf wird eingeleitet\n",
    "    t += 1 # Zählvariable wird ein neuer Wert zugewiesen,hochzählend pro Schleifendurchlauf\n",
    "    b = int(input(\"Systol. Blutdruckwert \"+str(t)+\":\")) #Variable 't', expliziete Typkonvertierung durch 'int()-Funktion'\n",
    "        #input-Funktion erzwingt vom Benutzer eine Eingabe, diese wird immer als Datentyp string unter der Var. gespeichert\n",
    "        #Zeichenkette in input, erklärt dem Benutzer was eingegeben werden soll. Der Konkatenationsoperator verbindet\n",
    "        # str Datentypen miteinander, 'str()' wieder explizite Typkonvertierung, da Var. t auf einen int Datentyp verweist,\n",
    "        # kann er ohne Typkonvertierung nicht durch den Konkatenationsoperator verbunden werden.\n",
    "    a = input(\"Abbruch der Eingabe mit 'n' oder 'N', ansonsten z.B. 'Enter': \") #Var. a, input-Funktion mit Zeichenkette\n",
    "    liste.append(b) #Listenmethode 'append', erkennbar an dem . zwischen der Var. liste und der Methode\n",
    "        # Methode append, fügt das Element in den Rundenklammern an die Liste an. In diesem Fall, den Wert, auf den der\n",
    "        # unter der Var. b gespeichert ist\n",
    "    if a == \"n\" or a == \"N\": #Bedingte Anweisung 'if'. 2 Bedingungen, die durch den logischen Operator 'or' verbunden\n",
    "        # sind, das heißt eine der beiden Bedingungen muss wahr sein. Erste Bedingung ist Var. a ist gleich (==)\n",
    "        # Zeichenkette 'n', zweite ist, dass die Zeichenkette 'N' sein muss. Ist keine der Bedingungen erfüllt,\n",
    "        # wiederhohlt sich die Schleife, bis die if-Anweisung erfüllt ist,da\n",
    "        break # für einen Schleifenabbruch sorgt\n",
    "\n",
    "print(\"Ausgabe von\",t, \"Blutdruckwerten:\") #print-Funktion, gibt seinen Parameter/Argument aus. Besteht aus\n",
    "    # Zeichenkette, Var, Zeichenkette. Verbunden durch ',' bei diesem ist es anders als bei '+' egal welche Datentypen\n",
    "    # verbunden werden\n",
    "for element in liste: #for-Schleiefe, besteht aus Schlüsselwort 'for', danach dem Key (Variable), Schlüsselwort 'in'\n",
    "    # und der Referenzvariable, diese zeigt an, wo sich die Variable (Liste) befindet, auf die sich der Key bezieht\n",
    "    # durch den ':' wird der Schleifenkopf geschlossen und der Rumpf eingeleitet\n",
    "    print(element) #print-Funktion, gibt den Key der Schleife aus. Im ersten Durchlauf der Schleife das erste Element\n",
    "    # der Liste, also aus dem Listenobjekt, das Element aus mit dem Index 0. Beim nächsten Durchlauf das Element\n",
    "    # mit dem Index 1. Die Schleife endet, wenn alle Listenelemente 1 mal durchlaufen wurden\n",
    "mittelwert = sum(liste)/len(liste) #Var. 'mittelwert' initialisierung. Funktion 'sum()', berechnet die gesamt Summe seines\n",
    "    # Parameters/ Argumentes aus, danach wird dieser durch den divisions-operator '/', durch das Ergebnis der Funktion 'len()' geteilt.\n",
    "    # len() berechnet die Länge seines Argumentes, also wie viele Elemente die Liste beinhält\n",
    "print(\"Mittelwert der eingegebenen Blutdruckwerte: \" + str(mittelwert))  #print-Funktion, expl. Typkonvertierung von Var\n",
    "    # mittelwert"
   ]
  },
  {
   "cell_type": "markdown",
   "id": "21fd531d",
   "metadata": {},
   "source": [
    "## b)"
   ]
  },
  {
   "cell_type": "code",
   "execution_count": 3,
   "id": "f9f6ff56",
   "metadata": {},
   "outputs": [
    {
     "name": "stdout",
     "output_type": "stream",
     "text": [
      "Hypertonie\n"
     ]
    }
   ],
   "source": [
    "if mittelwert <130: #Die If Anweisung ist eine Kontrollstruktur. Die Bedingung (mw= Mittelwert) ist kleiner 130, endet mit einem Doppelpunkt.\n",
    "    print(\"Niedriger oder normaler Blutdruck\") #Anweisungsblock\n",
    "elif mittelwert >= 130 and mittelwert < 140: #Wenn obere Bedingung false, aber diese Bedingung true, dann führe den unteren Anweisungblock aus.\n",
    "                            # AND logischer Operator verknüpft zwei Bedingungen, beide Bedingungen müssen true sein, damit der gesamte Ausdruck gleich true ist.\n",
    "    print(\"Hochnormaler Blutdruck\")\n",
    "else: #wenn obere beiden Bedingungen false, dann den unteren Anweisungblock\n",
    "    print(\"Hypertonie\")\n",
    "    "
   ]
  },
  {
   "cell_type": "markdown",
   "id": "d2d2d34b",
   "metadata": {},
   "source": [
    "## c)"
   ]
  },
  {
   "cell_type": "code",
   "execution_count": 5,
   "id": "2970853a",
   "metadata": {},
   "outputs": [
    {
     "name": "stdout",
     "output_type": "stream",
     "text": [
      "Hypertonie\n"
     ]
    }
   ],
   "source": [
    "def blutdruckTesten(mittelwert): #Das Schlüsselwort \"def\" leitet eine selbstdefinierte Funktion ein. Danach folgt der Funktionsname und in Klammern der formale Parameter.\n",
    "                                # Funktionskopf\n",
    "    if mittelwert <130: #gleiche Kontrollstruktur wie in b)\n",
    "                        #Funktionsrumpf\n",
    "        return \"Niedriger oder normaler Blutdruck\" #Statt Printanweisung der Rückgabewert, der an den Funktionsaufruf weitergeleitet wird.\n",
    "    elif mittelwert >= 130 and mittelwert < 140:\n",
    "        return\"Hochnormaler Blutdruck\"\n",
    "    else:\n",
    "        return\"Hypertonie\"\n",
    "print(blutdruckTesten(mittelwert)) #Funktionsaufruf mit dem aktuellen Parameter, Rückgabewert wird durch die print-Funktion ausgegeben."
   ]
  },
  {
   "cell_type": "markdown",
   "id": "fc0525d2",
   "metadata": {},
   "source": [
    "## d)"
   ]
  },
  {
   "cell_type": "code",
   "execution_count": 7,
   "id": "b0d6d5fc",
   "metadata": {},
   "outputs": [
    {
     "name": "stdout",
     "output_type": "stream",
     "text": [
      "Systolischen Blutdruckwert 1: 180\n",
      "Diastolischen Blutdruckwert 1: 80\n",
      "Wollen Sie einen weiteren Wert eingeben? Abbruch der Eingabe mit 'N','n', ansonsten z.B.'Enter.:n\n",
      "Ausgabe von 1 Blutdruckwertpaaren:\n",
      "180.0 / 80.0\n",
      "          \n",
      "Mittelwert der eingegebenen Blutdruckwertpaare: 180.0/80.0\n"
     ]
    }
   ],
   "source": [
    "#große Ähnlichkeiten zu Aufgabe a \n",
    "bldwert=[] \n",
    "s= 1\n",
    "d=1\n",
    "while True:\n",
    "    systole=float(input(\"Systolischen Blutdruckwert \"+str(s)+\": \"))\n",
    "    diastole=float(input(\"Diastolischen Blutdruckwert \"+str(d)+\": \")) #diastole kommt dazu\n",
    "    bldwert.append([systole, diastole]) #es entsteht eine mehrdimensionale Liste\n",
    "    \n",
    "    eingabe=input(\"Wollen Sie einen weiteren Wert eingeben? Abbruch der Eingabe mit 'N','n', ansonsten z.B.'Enter.:\")\n",
    "    if eingabe==\"N\"or eingabe ==\"n\":\n",
    "        break\n",
    "    s+=1\n",
    "    d+=1\n",
    "    \n",
    "print(\"Ausgabe von\",d,\"Blutdruckwertpaaren:\")\n",
    "print(\" \") #für eine Leerzeile\n",
    "sbldSumme=0 #Summe für Systole\n",
    "dbldSumme=0 #Summe für Diastole\n",
    "for wert in bldwert: \n",
    "    print(wert[0],\"/\",wert[1]) #erster Index steht immer für den systolischen Wert, zweiter Index steht für den diastolischen Wert\n",
    "    sbldSumme+=wert[0] #wird auf die Summe der Systole auf addiert\n",
    "    dbldSumme+=wert[1]  #wird auf die Summe der Diastole auf addiert\n",
    "mws= round(sbldSumme/s,2) #Mittelwert der Systole wird berechnet\n",
    "mwd= round(dbldSumme/d,2) #Mittelwert der Diastole wird berechnet\n",
    "print(\" \")\n",
    "print(\"Mittelwert der eingegebenen Blutdruckwertpaare: \"+str(mws)+\"/\"+str(mwd))   "
   ]
  },
  {
   "cell_type": "code",
   "execution_count": null,
   "id": "0bdd41bb",
   "metadata": {},
   "outputs": [],
   "source": []
  }
 ],
 "metadata": {
  "kernelspec": {
   "display_name": "Python 3",
   "language": "python",
   "name": "python3"
  },
  "language_info": {
   "codemirror_mode": {
    "name": "ipython",
    "version": 3
   },
   "file_extension": ".py",
   "mimetype": "text/x-python",
   "name": "python",
   "nbconvert_exporter": "python",
   "pygments_lexer": "ipython3",
   "version": "3.8.8"
  }
 },
 "nbformat": 4,
 "nbformat_minor": 5
}
