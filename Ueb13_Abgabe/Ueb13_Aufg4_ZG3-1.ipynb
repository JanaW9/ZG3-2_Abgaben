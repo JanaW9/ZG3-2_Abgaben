{
 "cells": [
  {
   "cell_type": "markdown",
   "id": "e2f94581",
   "metadata": {},
   "source": [
    "## Aufgabe 4 (Typ C)\n",
    "Definieren Sie eine Funktion zur Mittelwertberechnung von systolischen Blutdruckwerten und rufen\n",
    "Sie diese Funktion mehrmals von außerhalb der Funktion auf. Beim Aufruf können der/die\n",
    "Blutdruckwerte direkt durch Sie als Programmierer als aktuelle Parameter angegeben werden, eine\n",
    "Abfrage der Werte vom Benutzer ist nicht notwendig. Am Bildschirm soll der jeweilige Mittelwert\n",
    "erscheinen.\n",
    "Es sollen mehrere Versionen dieses Programms mit folgenden Zusatzangaben erstellt werden:    \n",
    "\n",
    "a) Es muss mindestens ein erster Blutdruckwert pflichtmäßig beim Funktionsaufruf übergeben\n",
    "werden. Weitere Blutdruckwerte können in beliebiger Anzahl folgen. Die Funktion soll dann\n",
    "zumindest mit zwei, mit einem und mit keinem Blutdruckwert/en aufgerufen werden. (Beim\n",
    "letzten Aufruf müsste eine Fehlermeldung resultieren.)"
   ]
  },
  {
   "cell_type": "code",
   "execution_count": 2,
   "id": "81951afe",
   "metadata": {},
   "outputs": [
    {
     "name": "stdout",
     "output_type": "stream",
     "text": [
      "110.0\n",
      "140.0\n"
     ]
    },
    {
     "ename": "TypeError",
     "evalue": "mw() missing 1 required positional argument: 'bld'",
     "output_type": "error",
     "traceback": [
      "\u001b[1;31m---------------------------------------------------------------------------\u001b[0m",
      "\u001b[1;31mTypeError\u001b[0m                                 Traceback (most recent call last)",
      "\u001b[1;32m<ipython-input-2-f192eac95f09>\u001b[0m in \u001b[0;36m<module>\u001b[1;34m\u001b[0m\n\u001b[0;32m     10\u001b[0m \u001b[0mprint\u001b[0m\u001b[1;33m(\u001b[0m\u001b[0mmw\u001b[0m\u001b[1;33m(\u001b[0m\u001b[1;36m120\u001b[0m\u001b[1;33m,\u001b[0m\u001b[1;36m100\u001b[0m\u001b[1;33m)\u001b[0m\u001b[1;33m)\u001b[0m\u001b[1;33m\u001b[0m\u001b[1;33m\u001b[0m\u001b[0m\n\u001b[0;32m     11\u001b[0m \u001b[0mprint\u001b[0m\u001b[1;33m(\u001b[0m\u001b[0mmw\u001b[0m\u001b[1;33m(\u001b[0m\u001b[1;36m140\u001b[0m\u001b[1;33m)\u001b[0m\u001b[1;33m)\u001b[0m\u001b[1;33m\u001b[0m\u001b[1;33m\u001b[0m\u001b[0m\n\u001b[1;32m---> 12\u001b[1;33m \u001b[0mprint\u001b[0m\u001b[1;33m(\u001b[0m\u001b[0mmw\u001b[0m\u001b[1;33m(\u001b[0m\u001b[1;33m)\u001b[0m\u001b[1;33m)\u001b[0m\u001b[1;33m\u001b[0m\u001b[1;33m\u001b[0m\u001b[0m\n\u001b[0m",
      "\u001b[1;31mTypeError\u001b[0m: mw() missing 1 required positional argument: 'bld'"
     ]
    }
   ],
   "source": [
    "def mw(bld,*b):  # bld ist ein Pflichtparamtert, *b ist ein flexibles Argument (und auch optional, für b muss kein Wert uebergeben werden)\n",
    "                #es koennen beliebig viele Argumente fuer b uebergeben werden.\n",
    "    summe = bld \n",
    "    Anzahl = 1\n",
    "    for Zahl in b: \n",
    "        summe=summe+Zahl\n",
    "        Anzahl=Anzahl+1\n",
    "    Mittelwert = summe/Anzahl\n",
    "    return Mittelwert\n",
    "\n",
    "print(mw(120,100)) #Funktionsaufruf mit zwei aktuellen Parametern\n",
    "print(mw(140)) #Funktionsaufruf mit nur einem Parameter für den pflicht Parameter bld\n",
    "print(mw())# fuehrt zu einem Fehler, da ein Parameter uebergeben werden muss fuer bld"
   ]
  },
  {
   "cell_type": "markdown",
   "id": "6f5710d7",
   "metadata": {},
   "source": [
    "b) Im Gegensatz zu a) soll auch der erste Blutdruckwert nicht pflichtmäßig beim Funktionsaufruf\n",
    "übergeben werden müssen. Ruft man die Funktion ohne aktuellen Parameter (also ohne\n",
    "Blutdruckwert) auf, soll der erste Blutdruckwert in der Funktion den Standardwert 120 erhalten\n",
    "und somit der Mittelwert 120 ausgegeben werden (und keine Fehlermeldung)"
   ]
  },
  {
   "cell_type": "code",
   "execution_count": 1,
   "id": "8edc182e",
   "metadata": {},
   "outputs": [
    {
     "name": "stdout",
     "output_type": "stream",
     "text": [
      "120.0\n"
     ]
    }
   ],
   "source": [
    "def mw(bld=120,*b): #bld bekommt einen Standardwert zugewiesen, damit ist er zu einem optionalen Parameter geworden\n",
    "    summe = bld\n",
    "    Anzahl=1\n",
    "    for Zahl in b:\n",
    "        summe=summe+Zahl\n",
    "        Anzahl=Anzahl+1\n",
    "    Mittelwert = summe/Anzahl \n",
    "    return Mittelwert\n",
    "print(mw())#wenn kein anderer Wert uebergeben wird, wird der Standardwert 120 verwendet"
   ]
  },
  {
   "cell_type": "markdown",
   "id": "713d2d74",
   "metadata": {},
   "source": [
    "c) Im Gegensatz zu b) sollen nun drei Rückgabewerte von der Funktion zurückgegeben werden:    \n",
    "• Die Anzahl der Blutdruckwerte, für die die Funktion aufgerufen wurde,    \n",
    "• die Summe der Blutdruckwerte    \n",
    "• sowie der Mittelwert der Blutdruckwerte    \n",
    "Die drei Rückgabewerte sollen nach dem Funktionsaufruf in drei Variablen gespeichert werden \n",
    "und in einem Antwortsatz ausgegeben werden. Für die Übergabe z.B. der beiden Blutdruck-\n",
    "werte 120 und 140 sollte am Bildschirm beim Ausführen Ihres Programms Folgendes\n",
    "erscheinen: Anzahl RR-Werte: 2 / Summe: 260 / MW: 130.0"
   ]
  },
  {
   "cell_type": "code",
   "execution_count": 3,
   "id": "4c76784a",
   "metadata": {},
   "outputs": [
    {
     "name": "stdout",
     "output_type": "stream",
     "text": [
      "Anzahl RR-Werte: 2 / Summe: 260 / MW 130.0\n"
     ]
    }
   ],
   "source": [
    "def mw(bld=120,*b):\n",
    "    summe = bld \n",
    "    Anzahl=1\n",
    "    for Zahl in b:\n",
    "        summe=summe+Zahl\n",
    "        Anzahl=Anzahl+1\n",
    "    Mittelwert=summe/Anzahl\n",
    "    return Anzahl,summe,Mittelwert #mehrere Rueckgabewerte. Tupel als Rueckgabewert\n",
    "x,y,z=mw(120,140) #die Tupel werden den Variablen zugewiesen. X steht fuer Anzahl, y steht fuer Summe, z fuer Mittelwert\n",
    "                    #dem Funktionsaufruf werden zwei aktuelle Parameter uebergeben\n",
    "print(\"Anzahl RR-Werte:\",x, \"/\",\"Summe:\",y,\"/\", \"MW\",z) #Dem String werden die Variablen mit Komma getrennt angehaengt"
   ]
  },
  {
   "cell_type": "code",
   "execution_count": null,
   "id": "f9968e95",
   "metadata": {},
   "outputs": [],
   "source": []
  }
 ],
 "metadata": {
  "kernelspec": {
   "display_name": "Python 3",
   "language": "python",
   "name": "python3"
  },
  "language_info": {
   "codemirror_mode": {
    "name": "ipython",
    "version": 3
   },
   "file_extension": ".py",
   "mimetype": "text/x-python",
   "name": "python",
   "nbconvert_exporter": "python",
   "pygments_lexer": "ipython3",
   "version": "3.8.8"
  }
 },
 "nbformat": 4,
 "nbformat_minor": 5
}
