{
 "cells": [
  {
   "cell_type": "markdown",
   "id": "e277926e-686a-4c76-931e-1d47a6f3360d",
   "metadata": {},
   "source": [
    "### Aufgabe 4 \n",
    "a)"
   ]
  },
  {
   "cell_type": "code",
   "execution_count": 1,
   "id": "27c7892c-542a-4dcd-93a0-de2993f8f7d9",
   "metadata": {},
   "outputs": [
    {
     "name": "stdout",
     "output_type": "stream",
     "text": [
      "Systol. Blutdruckwert 1: 140\n",
      "Abbruch der Eingabe mit 'n' oder 'N', ansonsten z.B. 'Enter': n\n",
      "140\n",
      "\n",
      "Mittelwert der eingegebenen Blutdruckwerte: 140.0\n"
     ]
    }
   ],
   "source": [
    "\n",
    "sysBlutdr = [] #diese Liste wird nach append in ein Array umgewandelt\n",
    "sysBlutdr_Summe = 0\n",
    "schleifendurchlauf = 0\n",
    "import numpy as np #Numpy importiert unter Shortname np\n",
    "\n",
    "while True:\n",
    "    schleifendurchlauf = schleifendurchlauf + 1\n",
    "    sysBlutdr_Wert = int(input(\"Systol. Blutdruckwert \" + str(schleifendurchlauf) + \": \"))\n",
    "    sysBlutdr.append(sysBlutdr_Wert)\n",
    "    weiter = input(\"Abbruch der Eingabe mit 'n' oder 'N', ansonsten z.B. 'Enter': \")\n",
    "    if weiter == \"N\" or weiter == \"n\":\n",
    "        break\n",
    "np_sysblW=np.array(sysBlutdr) #array Funktion mit Parameter der Liste, verwandelt Liste in einen Array, speichert den unter dem Bezeichner: np_sysblW. Nach append, da die append Methode nicht für ein Array funktioniert.  \n",
    "for element in np_sysblW: #Itariert das Array\n",
    "    print(element)\n",
    "    sysBlutdr_Summe += element\n",
    "    \n",
    "mw=np.mean(np_sysblW) #Mittelwerfunktion für Array. Berechnet den Mittelwert des Arrays. Argument der Funktion das Array\n",
    "print(\"\\nMittelwert der eingegebenen Blutdruckwerte: \" + str(mw))"
   ]
  },
  {
   "cell_type": "markdown",
   "id": "29a7bc88-001c-440b-b440-464189502474",
   "metadata": {},
   "source": [
    "## b)\n"
   ]
  },
  {
   "cell_type": "code",
   "execution_count": 2,
   "id": "6803601c-6348-4304-9ada-1dc9e26337d9",
   "metadata": {},
   "outputs": [
    {
     "name": "stdout",
     "output_type": "stream",
     "text": [
      "Ausgabe von Arrays OHNE Schleife:\n",
      "[158 190 185 165 140]\n",
      "[38 70 65 45 20]\n"
     ]
    }
   ],
   "source": [
    "\n",
    "sysBlutdr_array=np.array([158,190,185,165,140]) #(Achtung Numpy schon importiert)Die Funktion np. array(Parameter= die Liste, die in ein Array umgewandelt werden soll.)\n",
    "sysBlutdrVermindert_array=sysBlutdr_array-120 #skalare Subtraktion. 120 wird von jedem Element des Arrays abgezogen, das Ergebnis wird in dem neuen Array gespeichert(Bezeichner= sysBlutdrVermindert_array)\n",
    "print(\"Ausgabe von Arrays OHNE Schleife:\")\n",
    "print(sysBlutdr_array) #Ausgabe des Array sysBlutdr\n",
    "print(sysBlutdrVermindert_array) #Ausgabe der verminderten Werte"
   ]
  },
  {
   "cell_type": "markdown",
   "id": "1681bbdc-4907-4c39-8811-80e8a42c0de7",
   "metadata": {},
   "source": [
    "## c)"
   ]
  },
  {
   "cell_type": "code",
   "execution_count": 3,
   "id": "c45edbff-1f4a-4414-91bd-95a8731b50f3",
   "metadata": {},
   "outputs": [
    {
     "name": "stdout",
     "output_type": "stream",
     "text": [
      "Überprüfung auf Gleichheit, Substraktion:\n",
      "[ True  True  True  True  True]\n",
      "[120 120 120 120 120]\n"
     ]
    }
   ],
   "source": [
    "print(\"Überprüfung auf Gleichheit, Substraktion:\")\n",
    "print(sysBlutdr_array==sysBlutdrVermindert_array+120) #Vergleichsoperator ==, vergleicht ob rechter und linker Ausdruck gleich sind. Bei dem verminderten Array wird durch skalare Addition 120 elementeweise addiert.Das Ergebnis ist ein boolscher Wert (TRUE)\n",
    "print(sysBlutdr_array-sysBlutdrVermindert_array) #Die Differenz zwischen den Arrays wird berechnet. Die skalare Subtraktion. Elementeweise wird der Wert von einem Array von dem andern Array subtrahiert und das Ergebnis an der Konsole ausgegeben."
   ]
  },
  {
   "cell_type": "markdown",
   "id": "73705ab3-9dbf-4fac-a0ec-57e4ad221c4b",
   "metadata": {},
   "source": [
    "## d)"
   ]
  },
  {
   "cell_type": "code",
   "execution_count": 4,
   "id": "5287bca3-5885-438e-af98-752c53d5f082",
   "metadata": {},
   "outputs": [
    {
     "name": "stdout",
     "output_type": "stream",
     "text": [
      "Zugriffe und Zuweisung:\n",
      "190\n",
      "140\n",
      "[190 185]\n",
      "[158 190 185]\n",
      "[125 190 185 165 140]\n"
     ]
    }
   ],
   "source": [
    "print(\"Zugriffe und Zuweisung:\")\n",
    "print(sysBlutdr_array[1]) #Zugriff über Indizes. Der zweite Wert ist Index eins. Man beginnt bei Null zu zählen. Index ähnlich wie bei Listen in eckigen Klammern.\n",
    "\n",
    "print(sysBlutdr_array[-1]) #Zugriff auf das letze Element. Wenn man von hinten zählt, immer mit -1 beginnend. -1 ist immer das letzte Element.\n",
    "\n",
    "print(sysBlutdr_array[1:3]) #Slicing. Das zweite bis dritte Element werden ausgegebn. Erster Wert inklusiv, zweiter exklusiv. \n",
    "\n",
    "print(sysBlutdr_array[:3]) #Offener Anfang, alles bis zum dritten Element ausgeben. 3 wieder exklusiv\n",
    "\n",
    "sysBlutdr_array[0]=125#Element mit Index 0 wird verändert. Bekommt einen neuen Wert zugewiesen.\n",
    "print(sysBlutdr_array) #Array wird ausgegeben. Element mit Index 0 wurde verändert."
   ]
  },
  {
   "cell_type": "markdown",
   "id": "96a8c11b-c5c0-4850-9ccd-e8a0cc0153ed",
   "metadata": {},
   "source": [
    "## e)\n"
   ]
  },
  {
   "cell_type": "code",
   "execution_count": 5,
   "id": "faebcab9-7eb7-4414-82b1-5d41b9262c38",
   "metadata": {},
   "outputs": [
    {
     "name": "stdout",
     "output_type": "stream",
     "text": [
      "Vergleiche / Filtern:\n",
      "[False  True  True  True False]\n",
      "[190 185 165]\n"
     ]
    }
   ],
   "source": [
    "print(\"Vergleiche / Filtern:\")\n",
    "print(sysBlutdr_array>150) \n",
    "#Vergleichsoperator geht alle Elemente des Arrays durch und vergleicht diese mit der Zahl 150, das Ergebnis des Vergleichsausdruck wird an der Konsole ausgegeben[False,True...]\n",
    "print(sysBlutdr_array[sysBlutdr_array>150]) \n",
    "#Filtern. Wenn man den Vergleichsausdruck als Index notiert, werden einem nur die Werte ausgegeben die bei dem Vergleichsausdruck das Ergebnis True generiert haben."
   ]
  },
  {
   "cell_type": "markdown",
   "id": "7de95855-316e-4c36-9e5d-0cec748c4453",
   "metadata": {},
   "source": [
    "## f)"
   ]
  },
  {
   "cell_type": "code",
   "execution_count": 6,
   "id": "c4043dad-091f-440e-a069-b856a4df3880",
   "metadata": {},
   "outputs": [
    {
     "name": "stdout",
     "output_type": "stream",
     "text": [
      "Löschen:\n",
      "[125 185 165 140]\n",
      "[125 190 185 165 140]\n"
     ]
    }
   ],
   "source": [
    "print(\"Löschen:\")\n",
    "a=np.delete(sysBlutdr_array,1) #die delete Funktion löscht das Element, welches an der Stelle der Indexzahl hinter dem Array mit Komma getrennt steht. Dieses veränderte Array muss man unter einer Variable speichern. Da das original Array nicht verändert wird.\n",
    "print(a)\n",
    "print(sysBlutdr_array)#beim original Array wurde Element mit Index 1 nicht gelöscht."
   ]
  },
  {
   "cell_type": "markdown",
   "id": "595947ef-ee53-4555-a0fb-74574982e11b",
   "metadata": {},
   "source": [
    "## g)\n"
   ]
  },
  {
   "cell_type": "code",
   "execution_count": 7,
   "id": "3309d8c9-a3a4-4b64-bfc1-d968559e52b8",
   "metadata": {},
   "outputs": [
    {
     "name": "stdout",
     "output_type": "stream",
     "text": [
      "Mittelwert der eingegebenen Blutdruckwerte per statist. Methode: 161.0\n"
     ]
    }
   ],
   "source": [
    "erg=np.mean(sysBlutdr_array) #Funktion mean berechnet den Mittelwert des Arrays. Man muss erst den Shortname des Package nennen um auf die Funktion zugreifen zu können. Das wird mit Punktnotation aufgeschrieben.\n",
    "print(\"Mittelwert der eingegebenen Blutdruckwerte per statist. Methode:\",erg)"
   ]
  }
 ],
 "metadata": {
  "kernelspec": {
   "display_name": "Python 3",
   "language": "python",
   "name": "python3"
  },
  "language_info": {
   "codemirror_mode": {
    "name": "ipython",
    "version": 3
   },
   "file_extension": ".py",
   "mimetype": "text/x-python",
   "name": "python",
   "nbconvert_exporter": "python",
   "pygments_lexer": "ipython3",
   "version": "3.8.8"
  }
 },
 "nbformat": 4,
 "nbformat_minor": 5
}
