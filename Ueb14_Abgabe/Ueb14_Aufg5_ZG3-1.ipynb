{
 "cells": [
  {
   "cell_type": "markdown",
   "id": "d5e8d824-233c-4375-b924-143f7d359b86",
   "metadata": {},
   "source": [
    "### Aufgabe 5 (Typ C)     \n",
    "In dieser Aufgabe sollen mehrere Blutdruckwerte-Paare (systol./diast.) in einem zweidimensionalen\n",
    "Numpy-Array gespeichert und verarbeitet werden:\n",
    "    \n",
    "• Erzeugen Sie ein Numpy-Array blutdr_array mit folgenden Paaren aus systolischen und\n",
    "diastolischen Blutdruckwerten: 171/90, 162/ 95, 157/ 92\n",
    "    \n",
    "• Geben Sie durch den entsprechenden Zugriff auf das Numpy-Array am Bildschirm aus:    \n",
    "            o den systol. Wert des zweiten Paares (in diesem Fall also 162) [Mit welchen zwei\n",
    "sehr ähnlichen, syntaktischen Varianten kann man dieses realisieren?]    \n",
    "        o die diastol. Werte aller Paare    \n",
    "        o das erste Paar [Mit welchen zwei sehr ähnlichen, syntaktischen Varianten kann\n",
    "man dieses realisieren?]"
   ]
  },
  {
   "cell_type": "code",
   "execution_count": 1,
   "id": "02f1f548-1c27-497f-9871-c90d12a4fed2",
   "metadata": {},
   "outputs": [
    {
     "name": "stdout",
     "output_type": "stream",
     "text": [
      "162\n",
      "162\n",
      "[162  95]\n",
      "[171  90]\n",
      "[171  90]\n",
      "[171  90]\n"
     ]
    }
   ],
   "source": [
    "import numpy as np #Numpy muss importiert sein\n",
    "blutdr_array=np.array([[171,90],[162,95],[157,92]]) #Variable wird deklariert, mehrdimensionaler Array wird bestimmt\n",
    "a=print(blutdr_array[1][0]) #systole des zweiten Paar indexieren wie bei mehrdimensionalen Listen\n",
    "a1=print(blutdr_array[1,0]) #andere Schreibweise nur eine eckige Klammer. Indizes mit Komma getrennt.\n",
    "b=print(blutdr_array[:][1])#die diastolischen Werte aller Paare\n",
    "c=print(blutdr_array[0][:])#das erste Paar\n",
    "c1=print(blutdr_array[0,:])#das erste Paar andere Schreibweise\n",
    "c2=print(blutdr_array[0])"
   ]
  },
  {
   "cell_type": "code",
   "execution_count": null,
   "id": "26b62532-58c9-43da-8fa2-1584623477dc",
   "metadata": {},
   "outputs": [],
   "source": []
  }
 ],
 "metadata": {
  "kernelspec": {
   "display_name": "Python 3",
   "language": "python",
   "name": "python3"
  },
  "language_info": {
   "codemirror_mode": {
    "name": "ipython",
    "version": 3
   },
   "file_extension": ".py",
   "mimetype": "text/x-python",
   "name": "python",
   "nbconvert_exporter": "python",
   "pygments_lexer": "ipython3",
   "version": "3.8.8"
  }
 },
 "nbformat": 4,
 "nbformat_minor": 5
}
