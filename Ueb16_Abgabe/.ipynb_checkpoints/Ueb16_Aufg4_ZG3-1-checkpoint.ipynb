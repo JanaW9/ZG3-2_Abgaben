{
 "cells": [
  {
   "cell_type": "markdown",
   "id": "f2fe584e",
   "metadata": {},
   "source": [
    "## Aufgabe 4 (Typ C)\n",
    "a)\n",
    "Erstellen Sie mit einem Editor eine txt-Datei mit einem kleinen Gedicht o.ä. Speichern Sie diese Datei\n",
    "z.B. in einem Ordner tmp im Laufwerk C:.\n",
    "I. Lesen sie den Dateiinhalt in Ihrem Python-Programm in eine Variable ein und geben Sie den    \n",
    "Inhalt der Variable am Bildschirm aus.\n",
    "II. Überprüfen Sie, ob am Ende ihres Programms die Datei geschlossen ist  "
   ]
  },
  {
   "cell_type": "code",
   "execution_count": 1,
   "id": "d52d6be9",
   "metadata": {},
   "outputs": [
    {
     "name": "stdout",
     "output_type": "stream",
     "text": [
      "a1\n",
      "Gedicht:\n",
      "\n",
      "Ich sahe mit betrachtendem Gemuete\n",
      "juengst einen Kirschbaum, welcher bluehte,\n",
      "In kuehler Nacht beim Mondenschein;\n",
      "Ich glaubt, es koenne nichts von groesserer Weisse sein.\n",
      "Es schien, ob waer ein Schnee gefallen.\n",
      "Ein jeder, auch der kleinste Ast\n",
      "Trug gleichsam eine rechte Last\n",
      "Von zierlich-weissen runden Ballen.\n",
      "Es ist kein Schwan so weiss, da naemlich jedes Blatt,\n",
      "Indem daselbst des Mondes sanftes Licht\n",
      "Selbst durch die zarten Blaetter bricht,\n",
      "Sogar den Schatten weiss und sonder Schwaerze hat.\n",
      "Unmoeglich, dacht ich, kann auf Erden\n",
      "Was Weissers ausgefunden werden.\n",
      "Indem ich nun bald hin, bald her\n",
      "Im Schatten dieses Baumes gehe,\n",
      "Sah ich von ungefaehr\n",
      "Durch alle Blumen in die Hoehe\n",
      "Und ward noch einen weissern Schein,\n",
      "Der tausenmal so weiss, der tausendmal so klar,\n",
      "Fast halb darob erstaunt, gewahr.\n",
      "Der Bluete Schnee schien schwarz zu sein\n",
      "Bei diesem weissen Glanz. Es fiel mir ins Gesicht\n",
      "Von einem hellen Stern ein weisses Licht,\n",
      "Das mir recht in die Seele strahlte.\n",
      "\n",
      "Wie sehr ich mich an Gott im Irdischen ergetze,\n",
      "Dacht ich, hat Er dennoch weit groessre Schaetze.\n",
      "Die groesste Schoenheit dieser Erden\n",
      "Kann mit der himmlischen doch nicht verglichen werden.\n",
      "\n",
      "Barthold Hinrich Brockes\n",
      "True\n"
     ]
    }
   ],
   "source": [
    "import numpy as np \n",
    "import pandas as pd\n",
    "print('a1')\n",
    "gedicht=open('Gedicht.txt',mode='r') #Die Txt wird mit der Openfunktion geöffnet, ein Argument ist der Zugriffszeiger als String, das andere ist der Zugriffsmodus. r steht für read. Dies wird der Variable gedicht zugewiesen.\n",
    "print(gedicht.read())#die read Methode gibt den Text aus, der Text kann aber nicht bearbeitete werden.\n",
    "gedicht.close()#der Zugriffszeiger wird mit der close Methode geschlossen.\n",
    "print(gedicht.closed)#Kontrolle ob der Zugriffszeiger zu ist. TRUE FALSE als Antwort. closed ist ein Attribut."
   ]
  },
  {
   "cell_type": "markdown",
   "id": "27a19fb8",
   "metadata": {},
   "source": [
    "# b)\n",
    "I. Lesen Sie alle numerischen Daten ihrer Datei1 (also ohne die Spaltenbezeichner) in ein\n",
    "Numpy-Array ein und geben Sie dieses am Bildschirm aus.    \n",
    "II. Lesen Sie jetzt nur die numerischen Daten der ersten und dritten Spalte ihrer Datei in ein\n",
    "Numpy-Array ein und geben Sie dieses am Bildschirm aus.    \n",
    "III. Erzeugen Sie ein DataFrame datafr1 durch Einlesen der csv-Datei1 und wandeln Sie dieses\n",
    "DataFrame in ein Numpy-Array um. Geben Sie dieses Numpy-Array am Bildschirm aus.    \n",
    "IV. Erzeugen Sie ein DataFrame datafr2 durch Einlesen der csv-Datei2, wobei die erste Spalte\n",
    "(ID) zur Indexspalte werden soll. Geben Sie mit Hilfe der Methode head() die ersten 5\n",
    "Datensätze plus Überschriften dieses DataFrames am Bildschirm aus"
   ]
  },
  {
   "cell_type": "code",
   "execution_count": 2,
   "id": "c11ae909",
   "metadata": {},
   "outputs": [
    {
     "name": "stdout",
     "output_type": "stream",
     "text": [
      "[[170.  60. 130.]\n",
      " [180.  87. 140.]\n",
      " [190.  89. 120.]\n",
      " [150.  50. 132.]\n",
      " [165.  56. 126.]\n",
      " [171.  53. 119.]]\n"
     ]
    }
   ],
   "source": [
    "#I)\n",
    "RR='C:/tmp/Werte.csv' #Der Variable RR wird der Pfad der csv Datei zugewiesen\n",
    "\n",
    "ausgabe1=np.loadtxt(RR,delimiter=',',skiprows=1)#die Numpymethode loadtxt übergibt als Argumente den Filename, wie die Werte in der Datei getrennt sind und skiprow gibt an wie viele Spalten übersprungen werden.\n",
    "print(ausgabe1)\n"
   ]
  },
  {
   "cell_type": "code",
   "execution_count": 9,
   "id": "17828500",
   "metadata": {},
   "outputs": [
    {
     "name": "stdout",
     "output_type": "stream",
     "text": [
      "[[170. 130.]\n",
      " [180. 140.]\n",
      " [190. 120.]\n",
      " [150. 132.]\n",
      " [165. 126.]\n",
      " [171. 119.]]\n"
     ]
    }
   ],
   "source": [
    "#II)\n",
    "ausgabe2=np.loadtxt(RR,delimiter=',',usecols=[0,2],skiprows=1)#das usecols Argument kann angeben welche Spalten angezeigt werden sollen. Die Spaltenangabe wird in eckige Klammern geschrieben und es wird von 0 gezählt (ähnlich wie beim Index).\n",
    "print(ausgabe2)"
   ]
  },
  {
   "cell_type": "code",
   "execution_count": 12,
   "id": "8f7bff38",
   "metadata": {},
   "outputs": [
    {
     "name": "stdout",
     "output_type": "stream",
     "text": [
      "[[170  60 130]\n",
      " [180  87 140]\n",
      " [190  89 120]\n",
      " [150  50 132]\n",
      " [165  56 126]\n",
      " [171  53 119]]\n"
     ]
    },
    {
     "data": {
      "text/plain": [
       "pandas.core.frame.DataFrame"
      ]
     },
     "execution_count": 12,
     "metadata": {},
     "output_type": "execute_result"
    }
   ],
   "source": [
    "#III)\n",
    "Werte=pd.read_csv(RR) #das Ergebnis der  read_csv Methode wir in der Variable Werte gespeichert. Die Methode ist aus dem Package pandas. Als Argument wird der filename übergeben.\n",
    "Werte_array=Werte.values #die Werte werden als Array gespeichert. Neue Variable, values ist ein Attribut \n",
    "print(Werte_array) \n"
   ]
  },
  {
   "cell_type": "code",
   "execution_count": 11,
   "id": "8a64e6a9",
   "metadata": {},
   "outputs": [
    {
     "name": "stdout",
     "output_type": "stream",
     "text": [
      "      Groesse   Gewicht   Systole\n",
      "ID                               \n",
      "PatA      170        60       130\n",
      "PatB      180        87       140\n",
      "PatC      190        89       120\n",
      "PatD      150        50       132\n",
      "PatE      165        56       126\n",
      "PatF      171        53       119\n"
     ]
    },
    {
     "data": {
      "text/plain": [
       "pandas.core.frame.DataFrame"
      ]
     },
     "execution_count": 11,
     "metadata": {},
     "output_type": "execute_result"
    }
   ],
   "source": [
    "#IV)\n",
    "RR_ID='C:/tmp/WerteID.csv' #zweite CSV Datei \n",
    "WerteID=pd.read_csv(RR_ID,index_col=0) #Index für Spalte 0 (1.Spalte) wird festgelegt. \n",
    "print(WerteID)\n"
   ]
  },
  {
   "cell_type": "markdown",
   "id": "c6697325",
   "metadata": {},
   "source": [
    "# c)\n",
    "I. Geben Sie die Daten des ersten Arbeitsblattes (unabhängig vom Bezeichner des\n",
    "Arbeitsblattes) am Bildschirm aus.    \n",
    "II. Ermitteln Sie im Programm die Bezeichner der beiden Arbeitsblätter und geben Sie sie am\n",
    "Bildschirm aus.    \n",
    "III. Geben Sie die Daten des ersten Arbeitsblattes am Bildschirm aus, indem Sie beim\n",
    "Methodenaufruf den Bezeichner dieses Arbeitsblattes verwenden. "
   ]
  },
  {
   "cell_type": "code",
   "execution_count": 10,
   "id": "db643c5e",
   "metadata": {},
   "outputs": [
    {
     "name": "stdout",
     "output_type": "stream",
     "text": [
      "   Groesse   Gewicht   Systole\n",
      "0      170        60       130\n",
      "1      180        87       140\n",
      "2      190        89       120\n",
      "3      150        50       132\n",
      "4      165        56       126\n",
      "5      171        53       119\n",
      "['Werte', 'WerteID', 'Tabelle1']\n",
      "   Groesse   Gewicht   Systole\n",
      "0      170        60       130\n",
      "1      180        87       140\n",
      "2      190        89       120\n",
      "3      150        50       132\n",
      "4      165        56       126\n",
      "5      171        53       119\n"
     ]
    },
    {
     "data": {
      "text/plain": [
       "pandas.io.excel._base.ExcelFile"
      ]
     },
     "execution_count": 10,
     "metadata": {},
     "output_type": "execute_result"
    }
   ],
   "source": [
    "file='Wertemappen.xlsx' #Excel Datei wird einer Variable zugeweisen. Die Datei muss im selben Ordner liegen oder der Pfad muss angegeben werden.\n",
    "data=pd.ExcelFile(file) #die Pandas Methode ExcelFile mit dem Argument der Variable der Datei, gibt das als Exceldatei aus und mann kann später auf die Arbeitsblätter zugreifen.\n",
    "#I)\n",
    "print(data.parse(0)) #die Parse Methode gibt durch den Index 0 das erste Arbeitsblatt aus.\n",
    "#II)\n",
    "print(data.sheet_names)#Das Attribut sheet_names gibt die Namen der Arbeitsblätter an der Konsole aus\n",
    "#III)\n",
    "print(data.parse('Werte'))# da wir nun den Namen der Arbeitsblätter kennen können wir statt den Index wie bei Aufgabe eins, den Namen als String in der parse Methode verwenden.\n"
   ]
  },
  {
   "cell_type": "code",
   "execution_count": null,
   "id": "905f52c1",
   "metadata": {},
   "outputs": [],
   "source": []
  }
 ],
 "metadata": {
  "kernelspec": {
   "display_name": "Python 3",
   "language": "python",
   "name": "python3"
  },
  "language_info": {
   "codemirror_mode": {
    "name": "ipython",
    "version": 3
   },
   "file_extension": ".py",
   "mimetype": "text/x-python",
   "name": "python",
   "nbconvert_exporter": "python",
   "pygments_lexer": "ipython3",
   "version": "3.8.8"
  }
 },
 "nbformat": 4,
 "nbformat_minor": 5
}
