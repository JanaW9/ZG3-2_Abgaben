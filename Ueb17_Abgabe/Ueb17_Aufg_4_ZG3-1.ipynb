{
 "cells": [
  {
   "cell_type": "code",
   "execution_count": 1,
   "id": "b6fb8882",
   "metadata": {},
   "outputs": [
    {
     "name": "stdout",
     "output_type": "stream",
     "text": [
      "Help on module mein_paket.funkt in mein_paket:\n",
      "\n",
      "NAME\n",
      "    mein_paket.funkt\n",
      "\n",
      "FUNCTIONS\n",
      "    mad(dB, sysB)\n",
      "        Die 'mad'-Funktion berechnet den mittleren arteriellen Blutdruck. \n",
      "        Das Ergebnis wird auf Null Nachkommastellen gerundet und als Integer ausgegeben.\n",
      "        :param:sysB: systolischer Blutdruck\n",
      "        :param:dB: diastolischer Blutdruck\n",
      "        \n",
      "        Beispiel:\n",
      "        >>> mad(60,130)\n",
      "        95\n",
      "\n",
      "FILE\n",
      "    c:\\users\\janaw\\informatik\\inf2\\abgabe\\abgabe6_zg3-1\\mein_paket\\funkt.py\n",
      "\n",
      "\n"
     ]
    }
   ],
   "source": [
    "import mein_paket.funkt as fu  #mein Modul importiert \n",
    "#a)\n",
    "help(fu) #helpfunktion mit modul shortname gibt Docstring aus"
   ]
  },
  {
   "cell_type": "code",
   "execution_count": 2,
   "id": "ef997639",
   "metadata": {},
   "outputs": [
    {
     "name": "stdout",
     "output_type": "stream",
     "text": [
      "106\n"
     ]
    }
   ],
   "source": [
    "#b)\n",
    "b= fu.mad(68,145) #Funktionsaufruf der Funktion mad aus dem Modul fu\n",
    "print(b)"
   ]
  },
  {
   "cell_type": "code",
   "execution_count": 3,
   "id": "a6db568b",
   "metadata": {},
   "outputs": [
    {
     "data": {
      "text/plain": [
       "TestResults(failed=0, attempted=1)"
      ]
     },
     "execution_count": 3,
     "metadata": {},
     "output_type": "execute_result"
    }
   ],
   "source": [
    "#c)#Funktion und Docstring in die Celle kopiert um den Docstring zu testen\n",
    "def mad(dB,sysB):\n",
    "    \"\"\"Die 'mad'-Funktion berechnet den mittleren arteriellen Blutdruck.\n",
    "    Das Ergebnis wird auf Null Nachkommastellen gerundet und als Integer ausgegeben.\n",
    "    :param:sysB: systolischer Blutdruck\n",
    "    :param:dB: diastolischer Blutdruck\n",
    "    \n",
    "    Beispiel:\n",
    "    >>> mad(60,130)\n",
    "    95\"\"\"\n",
    "    erg=dB+ 0.5*(sysB - dB)\n",
    "    return int(round(erg,0))#Ergebnis wird auf die 0 Nachkommastelle gerundet\n",
    "import doctest #package zum Docsting testen importiert\n",
    "doctest.testmod() #wenn es einen Fehler gibt wird er angezeigt"
   ]
  },
  {
   "cell_type": "code",
   "execution_count": 5,
   "id": "c4f02d88",
   "metadata": {},
   "outputs": [
    {
     "name": "stdout",
     "output_type": "stream",
     "text": [
      "**********************************************************************\n",
      "File \"__main__\", line 7, in __main__.mad\n",
      "Failed example:\n",
      "    mad(60,130)\n",
      "Expected:\n",
      "    95\n",
      "Got:\n",
      "    155\n",
      "**********************************************************************\n",
      "1 items had failures:\n",
      "   1 of   1 in __main__.mad\n",
      "***Test Failed*** 1 failures.\n"
     ]
    },
    {
     "data": {
      "text/plain": [
       "TestResults(failed=1, attempted=1)"
      ]
     },
     "execution_count": 5,
     "metadata": {},
     "output_type": "execute_result"
    }
   ],
   "source": [
    "#d)\n",
    "def mad(dB,sysB):\n",
    "    \"\"\"Die 'mad'-Funktion berechnet den mittleren arteriellen Blutdruck.\n",
    "    Das Ergebnis wird auf Null Nachkommastellen gerundet und als Integer ausgegeben.\n",
    "    :param:sysB: systolischer Blutdruck\n",
    "    :param:dB: diastolischer Blutdruck\n",
    "    Beispiel:\n",
    "    >>> mad(60,130)\n",
    "    95\"\"\"\n",
    "    erg=dB+ 0.5*(sysB + dB) #Fehler in Funktion + statt =(sysB-dB)\n",
    "    return int(round(erg,0))\n",
    "import doctest\n",
    "doctest.testmod() #hier wird ein Fehler ausgegeben, da eine andere Zahl erwartet wurde als es berechnet wurde"
   ]
  }
 ],
 "metadata": {
  "kernelspec": {
   "display_name": "Python 3",
   "language": "python",
   "name": "python3"
  },
  "language_info": {
   "codemirror_mode": {
    "name": "ipython",
    "version": 3
   },
   "file_extension": ".py",
   "mimetype": "text/x-python",
   "name": "python",
   "nbconvert_exporter": "python",
   "pygments_lexer": "ipython3",
   "version": "3.8.8"
  }
 },
 "nbformat": 4,
 "nbformat_minor": 5
}
