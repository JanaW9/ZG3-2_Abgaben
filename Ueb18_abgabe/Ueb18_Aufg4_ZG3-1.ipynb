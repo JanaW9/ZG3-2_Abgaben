{
 "cells": [
  {
   "cell_type": "markdown",
   "id": "4953ccd9",
   "metadata": {},
   "source": [
    "## Aufgabe 4 (Typ C)\n",
    "Schreiben Sie eine Klasse Buch als Python-Programm.\n",
    "Zu einem Buchobjekt sollen die Eigenschaften Autorname und Buchtitel gespeichert werden können.     \n",
    "\n",
    "Es soll folgende Operation ausgeführt werden können:     \n",
    "• Ausgabe der zu einem Buch gehörenden Angaben auf dem Bildschirm\n",
    "Gehen Sie dabei folgendermaßen vor:    \n",
    "a) Weisen Sie in ihrer Klasse den Eigenschaften/Attributen autor und titel in entsprechenden set-\n",
    "Methoden Werte zu    \n",
    "b) Implementieren Sie in der Klasse Buch die gewünschte Ausgabeoperation als Instanzmethode\n",
    "ausgeben()    \n",
    "c) Erzeugen Sie außerhalb der Klasse (aber in derselben Notebook-Zelle) zwei unterschiedliche\n",
    "Buch-Objekte und setzen Sie die Attributwerte durch Aufruf der entsprechenden set-\n",
    "Methoden aus der Klasse Buch    \n",
    "d) Testen Sie dabei durch Aufruf der Methode ausgeben() für beide Objekte, ob jeweils die\n",
    "korrekten Attributwerte ausgegeben werden    \n",
    "e) Überprüfen Sie, ob es sich bei den beiden Objekten um identische Objekte handelt    \n",
    "f) Rufen Sie für ein Buchobjekt die dir-Methode auf    \n"
   ]
  },
  {
   "cell_type": "code",
   "execution_count": 2,
   "id": "fd978991",
   "metadata": {},
   "outputs": [
    {
     "name": "stdout",
     "output_type": "stream",
     "text": [
      "Buch von Autor Goethe mit Titel: Faust\n",
      "Buch von Autor Schiller mit Titel: Die Räuber\n",
      "Handelt es sich um dasselbe Objekt? False\n"
     ]
    },
    {
     "data": {
      "text/plain": [
       "['__class__',\n",
       " '__delattr__',\n",
       " '__dict__',\n",
       " '__dir__',\n",
       " '__doc__',\n",
       " '__eq__',\n",
       " '__format__',\n",
       " '__ge__',\n",
       " '__getattribute__',\n",
       " '__gt__',\n",
       " '__hash__',\n",
       " '__init__',\n",
       " '__init_subclass__',\n",
       " '__le__',\n",
       " '__lt__',\n",
       " '__module__',\n",
       " '__ne__',\n",
       " '__new__',\n",
       " '__reduce__',\n",
       " '__reduce_ex__',\n",
       " '__repr__',\n",
       " '__setattr__',\n",
       " '__sizeof__',\n",
       " '__str__',\n",
       " '__subclasshook__',\n",
       " '__weakref__',\n",
       " 'ausgeben',\n",
       " 'autor',\n",
       " 'buchtitel',\n",
       " 'set_autor',\n",
       " 'set_buchtitel']"
      ]
     },
     "execution_count": 2,
     "metadata": {},
     "output_type": "execute_result"
    }
   ],
   "source": [
    "#a)\n",
    "class Buch: #Classe erzeugt \n",
    "    \n",
    "    def set_autor(self,Autorname): #Methode definiert, Self&Autorname als formaler Parameter\n",
    "                                    #Schlüsselwort self muss übergeben werden um später im Anweisungsblock self als das Objekt für das Attribut nutzen zu können\n",
    "                                    # Self als Referenz auf das aktuelle Objekt\n",
    "        self.autor=Autorname #Attribut Autor definiert\n",
    "    def set_buchtitel(self,Titel):\n",
    "        self.buchtitel=Titel #Attribut buchtitel definiert\n",
    "    def ausgeben(self): #Ausgabemethode gibt zurück welche Attribute das Objekt hat\n",
    "        print('Buch von Autor',self.autor,'mit Titel:', self.buchtitel) #b)\n",
    "buch1=Buch() #buch1 Referenz auf das Objekt. Leeres Objekt \n",
    "b2=Buch()#b2 Variable als Referenz auf das zweite Objekt der Klasse Buch. Leeres Objekt\n",
    "buch1.set_autor('Goethe') #c) Autor für erstes Objekt Goethe wird festgelegt. Methofenaufruf\n",
    "buch1.set_buchtitel('Faust')#Titel für erstes Objekt. Methodenaufruf\n",
    "b2.set_autor('Schiller') #Autor für zweites Objekt\n",
    "b2.set_buchtitel('Die Räuber')#Titel für das zweite Objekt wird übergeben.\n",
    "\n",
    "\n",
    "#d)\n",
    "buch1.ausgeben()#ausgeben() gibt Titel und Autor der Objekts aus\n",
    "b2.ausgeben()#Objektnamen.methode() mit Punktnotation objektname und methodennamen trennen. Methode bezieht sich auf das Objekt\n",
    "#set_autor,set_buchtitel,ausgeben Methoden können nur auf die Klasse Buch angewendet werden, die Methoden bilden die Schnittstellen zur globalen Anwendung\n",
    "\n",
    "#e)\n",
    "print('Handelt es sich um dasselbe Objekt?',buch1 is b2) #vergleich mit is. Prüft ob die Identität der Objekte gleich ist.\n",
    "\n",
    "#f) \n",
    "dir(buch1)#gibt aus welche Methoden und Attribute ein Objekt hat."
   ]
  },
  {
   "cell_type": "code",
   "execution_count": null,
   "id": "ce541d27",
   "metadata": {},
   "outputs": [],
   "source": []
  }
 ],
 "metadata": {
  "kernelspec": {
   "display_name": "Python 3",
   "language": "python",
   "name": "python3"
  },
  "language_info": {
   "codemirror_mode": {
    "name": "ipython",
    "version": 3
   },
   "file_extension": ".py",
   "mimetype": "text/x-python",
   "name": "python",
   "nbconvert_exporter": "python",
   "pygments_lexer": "ipython3",
   "version": "3.8.8"
  }
 },
 "nbformat": 4,
 "nbformat_minor": 5
}
