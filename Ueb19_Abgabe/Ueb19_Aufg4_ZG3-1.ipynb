{
 "cells": [
  {
   "cell_type": "markdown",
   "id": "757e9944",
   "metadata": {},
   "source": [
    "## Aufgabe 4 (Typ C)\n",
    "Schreiben Sie erneut eine Klasse Buch als Python-Programm.\n",
    "Verändern/erweitern Sie folgendermaßen das Programm aus dem letzten Übungsblatt3:    \n",
    "#### a)\n",
    "Löschen Sie die bisherigen set-Methoden und ergänzen Sie einen Konstruktor, in dem die\n",
    "zwei Instanzattribute autor und titel definiert und initialisiert werden.        \n"
   ]
  },
  {
   "cell_type": "code",
   "execution_count": 1,
   "id": "7749f916",
   "metadata": {},
   "outputs": [],
   "source": [
    "class Buch:   #Klasse initalisiert mit Schlüsselwort Class\n",
    "    def __init__(self,aut,tit,priz,cd=' Nicht vorhanden'): #d)   #Konstruktor für die Instanzen definiert mit Pflicht- und Kann Attributen. Für Kann Attribut muss Standardwert übergeben werden.\n",
    "        self.autor=aut #Instanzattribute werden zugewiesen\n",
    "        self.titel=tit\n",
    "        self.cd_nummer=cd \n",
    "        self.__preis=priz #privates Attribut kann nur über getter / setter Methode erreicht werden. Wird mit doppelten Unterstrich gekennzeichnet. \n",
    "    def ausgeben(self): #ausgeben Methode gibt Auskunft über das Objekt selbst, durch die Referenzvariable self.\n",
    "        print('Buch von Autor '+ self.autor +' mit Titel:'+self.titel+'der Preis: '+str(self.__preis)+' mit CD :'+self.cd_nummer) #Strings werden konkatiniert mit den Werten des Objekt selbst."
   ]
  },
  {
   "cell_type": "markdown",
   "id": "1644e2e8",
   "metadata": {},
   "source": [
    "### b) \n",
    "Erzeugen Sie die zwei Buchobjekte - dieses Mal durch Aufruf dieses Konstruktors    "
   ]
  },
  {
   "cell_type": "code",
   "execution_count": 2,
   "id": "3142d46c",
   "metadata": {},
   "outputs": [],
   "source": [
    "b1=Buch('Goethe',' Faust',12.66,'A123') #1.Objekt  wird erstellt, Konstrukor wird aufgerufen, es werden Werte übergeben und in der Referenzvariable b1 gespeichert.\n",
    "b2=Buch('Schiller',' Die Räuber',84.90)#2. Objekt wird erstellt unter Referenzvariable b2 gespeichert.\n"
   ]
  },
  {
   "cell_type": "markdown",
   "id": "b7b3ad3c",
   "metadata": {},
   "source": [
    "### c)\n",
    "Testen Sie dabei durch Aufruf der Methode ausgeben() für beide Objekte, ob jeweils die\n",
    "korrekten Attributwerte ausgegeben werden    "
   ]
  },
  {
   "cell_type": "code",
   "execution_count": 3,
   "id": "f1f90ed8",
   "metadata": {},
   "outputs": [
    {
     "name": "stdout",
     "output_type": "stream",
     "text": [
      "Buch von Autor Goethe mit Titel: Faustder Preis: 12.66 mit CD :A123\n",
      "Buch von Autor Schiller mit Titel: Die Räuberder Preis: 84.9 mit CD : Nicht vorhanden\n"
     ]
    }
   ],
   "source": [
    "b1.ausgeben() #Aufruf der ausgeben Methode. Objektname mit Punktnotation vor den Methodennamen.\n",
    "b2.ausgeben()# die Referenzvariable vor der Methode ist vom Datentyp Klasse Buch somit weiß das Programm, dass es in Klasse Buch nach einer ausgeben Methode suchen muss. b2 wird an Stelle von self eingestzt."
   ]
  },
  {
   "cell_type": "code",
   "execution_count": 4,
   "id": "59016717",
   "metadata": {},
   "outputs": [
    {
     "ename": "AttributeError",
     "evalue": "'Buch' object has no attribute '__preis'",
     "output_type": "error",
     "traceback": [
      "\u001b[1;31m---------------------------------------------------------------------------\u001b[0m",
      "\u001b[1;31mAttributeError\u001b[0m                            Traceback (most recent call last)",
      "\u001b[1;32m<ipython-input-4-a443d65d254f>\u001b[0m in \u001b[0;36m<module>\u001b[1;34m\u001b[0m\n\u001b[0;32m      1\u001b[0m \u001b[1;31m#f)\u001b[0m\u001b[1;33m\u001b[0m\u001b[1;33m\u001b[0m\u001b[1;33m\u001b[0m\u001b[0m\n\u001b[1;32m----> 2\u001b[1;33m \u001b[0mprint\u001b[0m\u001b[1;33m(\u001b[0m\u001b[0mb1\u001b[0m\u001b[1;33m.\u001b[0m\u001b[0m__preis\u001b[0m\u001b[1;33m)\u001b[0m \u001b[1;31m#man kann ein privates Attribut nicht einfach so aufrufen, führt zu Fehler.\u001b[0m\u001b[1;33m\u001b[0m\u001b[1;33m\u001b[0m\u001b[0m\n\u001b[0m\u001b[0;32m      3\u001b[0m                     \u001b[1;31m#wenn man eine getter Methode definiert kann man diese aufrufen, würde den Preis des Objektes auf das b1 verweist erhalten.\u001b[0m\u001b[1;33m\u001b[0m\u001b[1;33m\u001b[0m\u001b[1;33m\u001b[0m\u001b[0m\n",
      "\u001b[1;31mAttributeError\u001b[0m: 'Buch' object has no attribute '__preis'"
     ]
    }
   ],
   "source": [
    "#f) \n",
    "print(b1.__preis) #man kann ein privates Attribut nicht einfach so aufrufen, führt zu Fehler.\n",
    "                    #wenn man eine getter Methode definiert kann man diese aufrufen, würde den Preis des Objektes auf das b1 verweist erhalten."
   ]
  },
  {
   "cell_type": "code",
   "execution_count": 5,
   "id": "8ea3a1f3",
   "metadata": {},
   "outputs": [],
   "source": [
    "#g)\n",
    "class Buch2:   #Klasse initalisiert mit Schlüsselwort Class\n",
    "    def __init__(self,aut,tit,priz,cd=' Nicht vorhanden'): #d)   #Konstruktor für die Instanzen definiert mit Pflicht- und Kann Attributen. Für Kann Attribut muss Standardwert übergeben werden.\n",
    "        self.autor=aut #Instanzattribute werden zugewiesen\n",
    "        self.titel=tit\n",
    "        self.cd_nummer=cd \n",
    "        self.__preis=priz\n",
    "    def setPreis(self,new_preis):  #set Methode um das private Attribut verändern zu können. schreibender Zugriff.\n",
    "        if new_preis>0: #Bedingung für Preis muss über 0 liegen\n",
    "            self.__preis=new_preis  #Plausibilitätskontrolle\n",
    "        else:\n",
    "            print('Es wurde ein falscher Preis für das Buch eingegeben') #Fehlermeldung, wenn der Preis <= 0\n",
    "    def getPreis(self): #get Methode um privates Attribut zu lesen. lesender Zugriff.\n",
    "        return self.__preis"
   ]
  },
  {
   "cell_type": "code",
   "execution_count": 6,
   "id": "d7bb8872",
   "metadata": {},
   "outputs": [
    {
     "name": "stdout",
     "output_type": "stream",
     "text": [
      "Es wurde ein falscher Preis für das Buch eingegeben\n",
      "10\n"
     ]
    }
   ],
   "source": [
    "b3=Buch2('Go',' Fast ',10,'CD3')\n",
    "b3.setPreis(0)\n",
    "b4=Buch2('ABC','DE',15)\n",
    "print(b3.getPreis())"
   ]
  },
  {
   "cell_type": "code",
   "execution_count": 7,
   "id": "f79a4e0b",
   "metadata": {},
   "outputs": [],
   "source": [
    "#h&i) \n",
    "class Buch2: #Klasse erzeugt\n",
    "    MAX_PREIS=100000 #Klassenattribut müssen vor den Methoden erfolgen\n",
    "    BUECHER_LISTE=[]# Klassenattribut, leere Liste wird erzeugt\n",
    "    def __init__(self,aut,tit,priz,cd=' Nicht vorhanden'): \n",
    "        self.autor=aut\n",
    "        self.titel=tit\n",
    "        self.cd_nummer=cd\n",
    "        self.__preis=priz\n",
    "\n",
    "        Buch2.BUECHER_LISTE.append(self) #Objekte der Klasse werden über die append Methode der Liste hinzugefügt.\n",
    "    @classmethod #Kassenmethoden werden definiert\n",
    "    def anzahl_buecher(cls): #die Referenz auf die Klasse selbst. Verweist auf Buch2 in diesem Fall.\n",
    "        return len(Buch2.BUECHER_LISTE) #die len Funktion gibt die Anzahl der Listenelemente aus.\n",
    "    def set_Preis(self,new_preis): \n",
    "        if new_preis>0:\n",
    "            self.__preis=new_preis\n",
    "        else:\n",
    "            print('Es wurde ein falscher Preis für das Buch eingegeben')\n",
    "    def get_Preis(self):\n",
    "        return self.__preis\n",
    "    @property #Propertys werden erstellt um den Zugriff auf private Attribute zu ermöglichen. Wenn man nur ein read Only möchte, keine setter Methode definieren.\n",
    "    def preis(self): #Getter Methode. Lesender Zugriff\n",
    "        return self.__preis #gibt den Wert des privaten Attributs aus.\n",
    "    @preis.setter #setter Methode\n",
    "    def preis(self,new_preis):#schreibender Zugriff. Man kann ein neuen Preis eingeben\n",
    "        if new_preis>0: #Plausibilitätsprüfung\n",
    "            self.__preis=new_preis\n",
    "        else:\n",
    "            print('Es wurde ein falscher Preis für das Buch eingegeben')\n",
    "        "
   ]
  },
  {
   "cell_type": "code",
   "execution_count": 8,
   "id": "309f1c6e",
   "metadata": {},
   "outputs": [
    {
     "name": "stdout",
     "output_type": "stream",
     "text": [
      "10\n",
      "Es wurde ein falscher Preis für das Buch eingegeben\n",
      "10\n",
      "19\n"
     ]
    }
   ],
   "source": [
    "#h)\n",
    "b3=Buch2('Go',' Fast ',10,'CD3')\n",
    "print(b3.preis)#preis Attribut wird aufgerufen. Ausgabe 10, funktioniert durch Property\n",
    "b3.preis=-3 #neuer Preis wird gesetzt, Fehler, da bei Plausibilitätsprüfung false raus kommt.\n",
    "print(b3.preis) #Preis wurde nicht verändert, da Fehler \n",
    "b3.preis=19 #neuen Preis \n",
    "print(b3.preis)#klappt, da über 0"
   ]
  },
  {
   "cell_type": "code",
   "execution_count": 9,
   "id": "600a7876",
   "metadata": {},
   "outputs": [
    {
     "name": "stdout",
     "output_type": "stream",
     "text": [
      "100000\n",
      "200\n",
      " Fast \n",
      "1\n"
     ]
    }
   ],
   "source": [
    "print(Buch2.MAX_PREIS)# Klassenattribut Max_Preis wird ausgegeben\n",
    "Buch2.MAX_PREIS = 200 #Max_Preis wird verändert\n",
    "print(Buch2.MAX_PREIS)\n",
    "print(Buch2.BUECHER_LISTE[0].titel) #Ausgabe von dem Titel des ersten Listenelement\n",
    "print(Buch2.anzahl_buecher())# die Anzahl der Bücher wird ausgegeben"
   ]
  },
  {
   "cell_type": "code",
   "execution_count": 14,
   "id": "bcca32e4",
   "metadata": {},
   "outputs": [
    {
     "name": "stdout",
     "output_type": "stream",
     "text": [
      "True\n"
     ]
    }
   ],
   "source": [
    "#j \n",
    "#rauskopiert aus h&i \n",
    "class Buch2: #Klasse erzeugt\n",
    "    MAX_PREIS=100000 #Klassenattribut müssen vor den Methoden erfolgen\n",
    "    BUECHER_LISTE=[]# Klassenattribut, leere Liste wird erzeugt\n",
    "    def __init__(self,aut,tit,priz,cd=' Nicht vorhanden'): \n",
    "        self.autor=aut\n",
    "        self.titel=tit\n",
    "        self.cd_nummer=cd\n",
    "        self.__preis=priz\n",
    "        Buch2.BUECHER_LISTE.append(self) #Objekte der Klasse werden über die append Methode der Liste hinzugefügt.\n",
    "         #j ) freiwillige Zusatzaufgabe\n",
    "    def ueberpruefe_preis(self):\n",
    "        if self.preis == Buch2.MAX_PREIS: #prüft ob der Preis der Max_Preis ist\n",
    "            return 'True' #Ausgabe True\n",
    "        elif self.preis <= Buch2.MAX_PREIS:# oder ob es kleiner gleich Max_Preis ist.\n",
    "            return 'True'\n",
    "        else:\n",
    "            return'False' #False wenn der Preis größer als der Max_Preis ist\n",
    "    @classmethod #Kassenmethoden werden definiert\n",
    "    def anzahl_buecher(cls): #die Referenz auf die Klasse selbst. Verweist auf Buch2 in diesem Fall.\n",
    "        return len(Buch2.BUECHER_LISTE) #die len Funktion gibt die Anzahl der Listenelemente aus.\n",
    "    def set_Preis(self,new_preis): \n",
    "        if new_preis>0:\n",
    "            self.__preis=new_preis\n",
    "        else:\n",
    "            print('Es wurde ein falscher Preis für das Buch eingegeben')\n",
    "    def get_Preis(self):\n",
    "        return self.__preis\n",
    "    @property #Propertys werden erstellt um den Zugriff auf private Attribute zu ermöglichen. Wenn man nur ein read Only möchte, keine setter Methode definieren.\n",
    "    def preis(self): #Getter Methode. Lesender Zugriff\n",
    "        return self.__preis #gibt den Wert des privaten Attributs aus.\n",
    "    @preis.setter #setter Methode\n",
    "    def preis(self,new_preis):#schreibender Zugriff. Man kann ein neuen Preis eingeben\n",
    "        if new_preis>0: #Plausibilitätsprüfung\n",
    "            self.__preis=new_preis\n",
    "        else:\n",
    "            print('Es wurde ein falscher Preis für das Buch eingegeben')\n",
    "b3=Buch2('Go',' Fast ',10,'CD3')\n",
    "print(b3.ueberpruefe_preis()) #gehört zu j) "
   ]
  }
 ],
 "metadata": {
  "kernelspec": {
   "display_name": "Python 3",
   "language": "python",
   "name": "python3"
  },
  "language_info": {
   "codemirror_mode": {
    "name": "ipython",
    "version": 3
   },
   "file_extension": ".py",
   "mimetype": "text/x-python",
   "name": "python",
   "nbconvert_exporter": "python",
   "pygments_lexer": "ipython3",
   "version": "3.8.8"
  }
 },
 "nbformat": 4,
 "nbformat_minor": 5
}
