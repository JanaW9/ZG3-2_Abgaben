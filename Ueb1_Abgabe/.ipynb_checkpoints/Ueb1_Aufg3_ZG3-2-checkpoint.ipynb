{
 "cells": [
  {
   "cell_type": "code",
   "execution_count": 1,
   "id": "c26f8e52",
   "metadata": {},
   "outputs": [
    {
     "name": "stdout",
     "output_type": "stream",
     "text": [
      "Hello World!\n"
     ]
    }
   ],
   "source": [
    "#a) \n",
    "#Die Ausgabe beginnt der Anweisung Print. In die Klammern wird die Funktion geschrieben. Bei einem Datentyp String muss die Zeichenkette in Anführungszeichen geschrieben werden.\n",
    "#Die Anführungszeichen können '' oder \"\" aussehen. Müssen aber konsistent sein. 'Hello' ist der 1. Operant und 'World' der 2. Operant.\n",
    "#Konkatinierte Strings, werden mit dem Konkatinationsoperator verbunden. \n",
    "print('Hello'+' World!')"
   ]
  },
  {
   "cell_type": "code",
   "execution_count": 3,
   "id": "cfcc738c",
   "metadata": {},
   "outputs": [
    {
     "name": "stdout",
     "output_type": "stream",
     "text": [
      "Hello\n",
      "World\n"
     ]
    }
   ],
   "source": [
    "#b)Sind zwei Strings die Konkatiniert werden mit einem Zeilenumbruch.Zwei Strings werden(mit einem Konkatinationsoperator +)konkatiniert.\n",
    "# der Zeilenumbruch wird durch das Sonderzeichen \"\"\\n\", welches in Anführungszeichen ist, erzeugt. Der \\ kündigt an,dass Nachfolgende ist nicht wie ein Zeichenkette zu behandeln sondern eine Zeichenkombination mit einer Funktion. (sog. Escape Sequenz)\n",
    "print(\"Hello\"+\"\\n\"+ \"World\")"
   ]
  },
  {
   "cell_type": "code",
   "execution_count": 4,
   "id": "16c27dfc",
   "metadata": {},
   "outputs": [
    {
     "name": "stdout",
     "output_type": "stream",
     "text": [
      "Hello\tWorld\n"
     ]
    }
   ],
   "source": [
    "#c)Sind zwei konkatinierte Strings mit einem Tabulator. Der Tabulator erzeugt ein Einruck. Ählich wie beim Zeileinumbruch wird der Einruck durch eine Zeichnkombination \"\\t\" erstellt. (Sondrzeichen mit Funktion)\n",
    "print(\"Hello\"+\"\\t\"+\"World\")"
   ]
  },
  {
   "cell_type": "code",
   "execution_count": 5,
   "id": "72552081",
   "metadata": {},
   "outputs": [
    {
     "name": "stdout",
     "output_type": "stream",
     "text": [
      "9\n"
     ]
    }
   ],
   "source": [
    "#d) diesmal ist das Plus ein Additionsoperator und addiert die beiden Werte. Mit der Printanweisung kann ich in die Klammern die Funktion (Argument)schreiben und bekomme das Ergebnis ausgegeben. \n",
    "# bei einer Addition von zwei Integern ist das Ergebnis auch ein Integer.\n",
    "e=4+5\n",
    "print(e)"
   ]
  },
  {
   "cell_type": "code",
   "execution_count": 6,
   "id": "5ea3afc9",
   "metadata": {},
   "outputs": [
    {
     "name": "stdout",
     "output_type": "stream",
     "text": [
      "9.0\n"
     ]
    }
   ],
   "source": [
    "#e) Bei der Addition von einem Float und einem Integer ist das Ergebnis ein Float, für die höchste Genauigkeit.\n",
    "a=4.0\n",
    "b=5\n",
    "c=a+b\n",
    "print(c)"
   ]
  },
  {
   "cell_type": "code",
   "execution_count": 7,
   "id": "8f6f625f",
   "metadata": {},
   "outputs": [
    {
     "name": "stdout",
     "output_type": "stream",
     "text": [
      "0.5\n"
     ]
    }
   ],
   "source": [
    "#f) / ist ein mathematischer Operator zur Division. Das Ergebnis ist ein Float\n",
    "a=2/4\n",
    "print(a)"
   ]
  },
  {
   "cell_type": "code",
   "execution_count": 8,
   "id": "7c913b34",
   "metadata": {},
   "outputs": [
    {
     "name": "stdout",
     "output_type": "stream",
     "text": [
      "0.5\n"
     ]
    }
   ],
   "source": [
    "#g)bei einer Division mit einem Float ist das Ergebnis auch ein Float (siehe Additon)\n",
    "x=2.0/4\n",
    "print(x)"
   ]
  },
  {
   "cell_type": "code",
   "execution_count": 9,
   "id": "e152363e",
   "metadata": {},
   "outputs": [
    {
     "name": "stdout",
     "output_type": "stream",
     "text": [
      "2\n"
     ]
    }
   ],
   "source": [
    "#h) // steht für eine ganzzahlige Division. Ist die Teilung zweier Zahlen ohne der Angabe des Rest. Ergebnis Integer.\n",
    "h=5//2\n",
    "print(h)"
   ]
  },
  {
   "cell_type": "code",
   "execution_count": 10,
   "id": "9ad591bb",
   "metadata": {},
   "outputs": [
    {
     "name": "stdout",
     "output_type": "stream",
     "text": [
      "1\n"
     ]
    }
   ],
   "source": [
    "#i) % steht für Modulo. Modulo ist die Ausgabe vom Rest beim Teilen von Zahlen. Ergebnis Integer\n",
    "i= 10%3\n",
    "print(i)"
   ]
  },
  {
   "cell_type": "code",
   "execution_count": 11,
   "id": "e1835775",
   "metadata": {},
   "outputs": [
    {
     "name": "stdout",
     "output_type": "stream",
     "text": [
      "9\n"
     ]
    }
   ],
   "source": [
    "#j) ** steht für Exponieren. Gerechnet wird 3*3. Ergebnis Integer\n",
    "j=3**2\n",
    "print(j)"
   ]
  },
  {
   "cell_type": "code",
   "execution_count": 12,
   "id": "c72f998c",
   "metadata": {},
   "outputs": [],
   "source": [
    "#2.Teil AUFGABE 3 B) Eine explitzite Deklaration ist nicht notwenidig, da Python automatisch im Zusammenahang den Datentyp der Variablen deklariert.\n",
    "# Die Deklaration der Variablen muss nicht vor der Printanweisung erfolgen. Man kann auch in die Print Anweisung die Funktion schreiben. Das Ergebnis des Ausdrucks wird ausgegebn. Python arbeitet von innen nach außen(schaut sich zu erst den Ausdruck an)"
   ]
  },
  {
   "cell_type": "code",
   "execution_count": null,
   "id": "1b890df7",
   "metadata": {},
   "outputs": [],
   "source": []
  }
 ],
 "metadata": {
  "kernelspec": {
   "display_name": "Python 3",
   "language": "python",
   "name": "python3"
  },
  "language_info": {
   "codemirror_mode": {
    "name": "ipython",
    "version": 3
   },
   "file_extension": ".py",
   "mimetype": "text/x-python",
   "name": "python",
   "nbconvert_exporter": "python",
   "pygments_lexer": "ipython3",
   "version": "3.8.8"
  }
 },
 "nbformat": 4,
 "nbformat_minor": 5
}
