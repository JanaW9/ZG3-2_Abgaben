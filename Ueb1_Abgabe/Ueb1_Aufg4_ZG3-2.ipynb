{
 "cells": [
  {
   "cell_type": "code",
   "execution_count": 1,
   "id": "41983970",
   "metadata": {},
   "outputs": [
    {
     "name": "stdout",
     "output_type": "stream",
     "text": [
      "2678400\n",
      "Der Monat Januar hat 2678400 Sekunden\n"
     ]
    }
   ],
   "source": [
    "#Berechnung Sekunden im Monat Januar\n",
    "#Variable t= für Tage im Monat\n",
    "t=31\n",
    "#Variable std= stunden pro Tag\n",
    "std= 24\n",
    "# Variable m= Minuten pro Stunde\n",
    "m= 60\n",
    "#Variable sek= Sekunden pro Minute\n",
    "sek=60\n",
    "\n",
    "#Variable sekJan= Sekunden im Januar\n",
    "sekJan= t*std*m*sek\n",
    "print(sekJan)\n",
    "print(\"Der Monat Januar hat\", sekJan,\"Sekunden\")\n",
    "# um eine Variable in einen String zu integrieren muss man die Variable mit einem Komma davor und dahinter trennen."
   ]
  },
  {
   "cell_type": "code",
   "execution_count": null,
   "id": "b7acd97e",
   "metadata": {},
   "outputs": [],
   "source": []
  }
 ],
 "metadata": {
  "kernelspec": {
   "display_name": "Python 3",
   "language": "python",
   "name": "python3"
  },
  "language_info": {
   "codemirror_mode": {
    "name": "ipython",
    "version": 3
   },
   "file_extension": ".py",
   "mimetype": "text/x-python",
   "name": "python",
   "nbconvert_exporter": "python",
   "pygments_lexer": "ipython3",
   "version": "3.8.8"
  }
 },
 "nbformat": 4,
 "nbformat_minor": 5
}
