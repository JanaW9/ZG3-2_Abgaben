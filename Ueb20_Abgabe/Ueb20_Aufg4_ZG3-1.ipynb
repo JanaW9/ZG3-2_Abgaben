{
 "cells": [
  {
   "cell_type": "code",
   "execution_count": 2,
   "id": "ace7556d",
   "metadata": {},
   "outputs": [
    {
     "name": "stdout",
     "output_type": "stream",
     "text": [
      "----Patientenaufnahme-------\n",
      "Ich bin Patient Wehweh mit ID 123\n",
      "liegt auf Station: Kardiologie I\n",
      "\n",
      "Ich bin Patient Aua mit ID 234\n",
      "liegt auf Station: Kardiologie I\n",
      "\n",
      "Auf Station S1 liegt/liegen aktell 2:\n",
      "Wehweh\n",
      "Aua\n",
      "----Patientenentlassung von p1------\n",
      "Ich bin Patient Wehweh mit ID 123\n",
      "und wurde entlassen\n",
      "Auf Station S1 liegt/liegen aktell 1:\n",
      "Aua\n"
     ]
    }
   ],
   "source": [
    "class Patient: #Klasse Patient erzeugt\n",
    "    def __init__(self,id,name,stat=None): #Konstrukort für Parameter stat Default None\n",
    "        self.patID= id #ID Attribut. Zuweisungsanweisung.\n",
    "        self.name= name #Name Attribut\n",
    "        self.station=stat #Station. Wenn kein anderer Parameter übergeben wurde, None\n",
    "   \n",
    "    def setStation(self,stat): #Set Methode für schreibenden Zugriff.Parameter für Station kann übergeben werden\n",
    "        self.station=stat \n",
    "    \n",
    "    def ausgeben(self):#Ausgabe von Werten der Attribute \n",
    "        print(\"Ich bin Patient \"+ self.name+\" mit ID \"+ self.patID)\n",
    "        if self.station is None:#Wenn das true ist, dann print- wurde entlassen\n",
    "            print(\"und wurde entlassen\")\n",
    "        else: #Wenn ein Parameter für Station übergeben wurde, dann untere Printanweisung\n",
    "            print(\"liegt auf Station: \"+ self.station.name+\"\\n\")\n",
    "\n",
    "class Station: #Klasse Station\n",
    "    def __init__(self,id,name): #Konstruktor\n",
    "        self.statID= id\n",
    "        self.name= name\n",
    "        self.patienten=[]# leere Liste wird erzeugt um die Patienten darin zu speichern\n",
    "    \n",
    "    def addPatient(self,pat):#Methode um Patient hinzu zufügen\n",
    "        self.patienten.append(pat)#Patient wird der Liste hinzugefügt\n",
    "    \n",
    "    def removePatient(self,pat): #Methode um Patienten zu entfernen\n",
    "        if pat in self.patienten: #wenn Patient schon in Liste ist, soll Pat gelöscht werden\n",
    "            self.patienten.remove(pat)#remove aus Liste\n",
    "        \n",
    "    def ausgeben(self): #Auskunft über das Objekt selbst \n",
    "        print(\"Auf Station \"+ self.statID+\" liegt/liegen aktell \"+str(len(self.patienten))+\":\")\n",
    "        for element in self.patienten: #for Schleife durchläuft List gibt Patienten Namen aus\n",
    "            print(element.name)\n",
    "\n",
    "s1=Station('S1','Kardiologie I') #Objekt der Stationsklasse wird erzeugt, Attribute werden übergeben \n",
    "p1=Patient('123','Wehweh') #Objekt Patient wird erzeugt, Referenzvariable p1 \n",
    "p2=Patient('234','Aua')#zweites Objekt der Klasse Patient wird erzeugt\n",
    "\n",
    "p1.setStation(s1) #Set Methoden Aufruf \n",
    "p2.setStation(s1)\n",
    "s1.addPatient(p1)#Patient p1 wird der Station s1 zugefügt\n",
    "s1.addPatient(p2)#Patient p2 wird hinzugefügt\n",
    "print(\"----Patientenaufnahme-------\")\n",
    "p1.ausgeben() #Attributwerte des Patientenobjektes werden ausgegeben\n",
    "p2.ausgeben()\n",
    "s1.ausgeben() #Attributwerte der Station werden ausgegeben\n",
    "print(\"----Patientenentlassung von p1------\")\n",
    "s1.removePatient(p1) #p1 wird von der Station entlassen\n",
    "p1.setStation(None) #Station wird geändert im Patientenobjekt. Beziehungskonstellationen müssen in den Klassen der Beziehungspartner mit passenden Methoden eingerichtet werden.\n",
    "p1.ausgeben()#p1 ohne Station wird ausgeben\n",
    "\n",
    "s1.ausgeben()#Station mit nur 1 Pat wird ausgegeben"
   ]
  }
 ],
 "metadata": {
  "kernelspec": {
   "display_name": "Python 3",
   "language": "python",
   "name": "python3"
  },
  "language_info": {
   "codemirror_mode": {
    "name": "ipython",
    "version": 3
   },
   "file_extension": ".py",
   "mimetype": "text/x-python",
   "name": "python",
   "nbconvert_exporter": "python",
   "pygments_lexer": "ipython3",
   "version": "3.8.8"
  }
 },
 "nbformat": 4,
 "nbformat_minor": 5
}
