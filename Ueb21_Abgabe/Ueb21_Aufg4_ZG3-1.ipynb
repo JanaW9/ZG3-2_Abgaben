{
 "cells": [
  {
   "cell_type": "markdown",
   "id": "8948866a",
   "metadata": {},
   "source": [
    "## Aufgabe 4 (Typ C)\n",
    "a) Erstellen Sie drei Klassen: Eine Oberklasse Verkehrsmittel sowie zwei Unterklassen Fahrrad und Auto. Die Oberklasse und die Unterklassen sollen jeweils\n",
    "Konstruktoren sowie zwei (für die jeweilige Klasse passende) Attribute besitzen. Die Konstruktoren der Unterklasse sollen den Konstruktor der Oberklasse\n",
    "überladen und im Konstruktorrumpf den Konstruktor der Oberklasse aufrufen     "
   ]
  },
  {
   "cell_type": "code",
   "execution_count": null,
   "id": "25edadfb",
   "metadata": {},
   "outputs": [],
   "source": [
    "class Verkehrsmittel:  #Klasse Verkehrsmittel ist die Oberklasse\n",
    "    def __init__(self,preis,anzahlr,farbe): #Konstruktor, initalisiert die Klassenattribute.\n",
    "        self.preis=preis\n",
    "        self.anzahlreifen=anzahlr\n",
    "        self.farbe=farbe\n",
    "    def lackieren(self,neue_farbe): #Methode um eine neue Farbei festzulegen. Attribut wird verändert\n",
    "        self.farbe=neue_farbe\n",
    "    def ausgeben(self): #Ausgabe von Werten hinter den Attributen für das aktuelle Objekt in einem Antwortsatz\n",
    "        print('Ich bin ein Verkehrsmittel und koste: '+str(self.preis)+'€. Anzahl Reifen: '+str(self.anzahlreifen)+' farbe:'+self.farbe)\n",
    "   \n",
    " \n",
    "class Fahrrad(Verkehrsmittel): #Unterklasse erkennt man an der Syntax: Klasse(Oberklasse). Ist ein Verweis auf die Oberklass\n",
    "                                #die Unterklasse erbt Attribute und Methoden der Oberklasse (Überladen)\n",
    "    def __init__(self,rahmennr,preis,anzahlr,farbe,marke): #Konstruktor der Oberklasse, Rahmennr, Marke neue zusätzliche Attribute\n",
    "        Verkehrsmittel.__init__(self,preis,anzahlr,farbe) #Konstruktoraufruf der Oberklasse\n",
    "        self.fahrradid=rahmennr #neue Attribute der Unterklasse initalisert\n",
    "        self.marke=marke\n",
    "    def setMarke(self,marke): #Methode um ein Attributwert zu verändern\n",
    "        self.marke=marke\n",
    "    def ausgeben(self): #Eigene Ausgeben Methode (Überschreiben)\n",
    "        Verkehrsmittel.ausgeben(self) #Methodenaufruf der Oberklasse. Klassennamen.methode. Antwortsatz der Oberklasse + Antwortsatz der Unterklasse werden ausgegeben\n",
    "        print('Ich bin ein Fahrrad von der Marke '+self.marke+ ' und habe die Rahmennr: '+str(self.fahrradid))\n",
    "\n",
    "class Auto(Verkehrsmittel):#zweite Unterklasse von Verkehrsmittel\n",
    "    def __init__(self,kennzei,preis,anzahlr,farbe,modell):\n",
    "        Verkehrsmittel.__init__(self,preis,anzahlr,farbe)\n",
    "        self.kennzeichen=kennzei\n",
    "        self.modell=modell\n",
    "    def setModell(self,modell):\n",
    "        self.modell=modell\n",
    "    def ausgeben(self):\n",
    "        Verkehrsmittel.ausgeben(self)\n",
    "        print('Ich bin ein Auto Modell '+self.modell+ ' und habe das Kennzeichen: '+str(self.kennzeichen))\n",
    "\n",
    "v1=Verkehrsmittel(120,4,'grün') #Objekt der Oberklasse\n",
    "f1=Fahrrad(123456,20,2,'blau','Radon') #Objekt der Unterklasse\n",
    "a1=Auto('OD JW 1802',1200,4,'schwarz','Corsa')\n",
    "\n",
    "v1.ausgeben() #Antwortsatz der oberklasse\n",
    "f1.ausgeben() #Antwortsatz der Ober und Unterklasse\n",
    "a1.ausgeben() # ---\"--\n",
    "\n",
    "v1.lackieren('rot') #Farbe des Objekt v1 wird verändert\n",
    "f1.setMarke('BTWIN') #Marke des Obejkts Typ Fahrrad wird verändert\n",
    "a1.setModell('Corsa C')\n",
    "\n",
    "print('---------Veränderte Farbe, Modell, Marke----------')\n",
    "\n",
    "v1.ausgeben() #Antwortsatz mit veränderter Farbe wird ausgegeben\n",
    "a1.ausgeben()\n",
    "f1.ausgeben()"
   ]
  }
 ],
 "metadata": {
  "kernelspec": {
   "display_name": "Python 3",
   "language": "python",
   "name": "python3"
  },
  "language_info": {
   "codemirror_mode": {
    "name": "ipython",
    "version": 3
   },
   "file_extension": ".py",
   "mimetype": "text/x-python",
   "name": "python",
   "nbconvert_exporter": "python",
   "pygments_lexer": "ipython3",
   "version": "3.8.8"
  }
 },
 "nbformat": 4,
 "nbformat_minor": 5
}
