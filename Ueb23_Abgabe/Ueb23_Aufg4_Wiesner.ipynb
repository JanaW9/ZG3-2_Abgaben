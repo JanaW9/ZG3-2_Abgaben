{
 "cells": [
  {
   "cell_type": "markdown",
   "id": "94a5ee05",
   "metadata": {},
   "source": [
    "### Aufgabe 4 Typ C"
   ]
  },
  {
   "cell_type": "code",
   "execution_count": 1,
   "id": "9756fc5c",
   "metadata": {},
   "outputs": [
    {
     "name": "stdout",
     "output_type": "stream",
     "text": [
      "Bitte geben Sie eine ganze Zahl für den Zähler ein: 20\n",
      "Bitte geben Sie eine ganze Zahl für den Nenner ein:0\n",
      "Fehler: Es wurde im Nenner 0 eingegeben. Man kann nicht durch 0 teilen.\n"
     ]
    }
   ],
   "source": [
    "#a)\n",
    "try:\n",
    "    a = int(input(\"Bitte geben Sie eine ganze Zahl für den Zähler ein: \"))\n",
    "    b = int(input(\"Bitte geben Sie eine ganze Zahl für den Nenner ein:\")) \n",
    "    print(\"Quotient: \" + str(a/b))\n",
    "except ValueError: #b/a)\n",
    "    print(\"Fehler: Es wurde keine gültige Zahl eingegeben/z.B: eine Zeichenketttes statt Zahl.\")\n",
    "    \n",
    "except ZeroDivisionError:\n",
    "    print(\"Fehler: Es wurde im Nenner 0 eingegeben. Man kann nicht durch 0 teilen.\")"
   ]
  },
  {
   "cell_type": "code",
   "execution_count": 3,
   "id": "ad579221",
   "metadata": {},
   "outputs": [
    {
     "name": "stdout",
     "output_type": "stream",
     "text": [
      "Bitte geben Sie eine ID ein:2\n",
      "Fehler: Es wurde eine Zahl <100 als ID eingegeben:\n"
     ]
    }
   ],
   "source": [
    "#c)\n",
    "class FalscheID(Exception): pass\n",
    "class ID: \n",
    "    def __init__(self,a):\n",
    "        if a <100: #Plausibilitätsprüfung für die id darf nicht kleiner 100\n",
    "            raise FalscheID(\"Die ID darf nicht kleiner als 100 sein.\")\n",
    "        self.ID = a\n",
    "try:\n",
    "    c = int(input(\"Bitte geben Sie eine ID ein:\"))\n",
    "    i = ID(c)#Objekt der Klasse ID erzeugt \n",
    "except FalscheID: #d)\n",
    "    print('Fehler: Es wurde eine Zahl <100 als ID eingegeben:')\n",
    "except ValueError: #es kommt immer der Error, der zu erst definiert wurde auch wenn beide zutreffen\n",
    "    print('Sie haben keine korrekte Zahl eingegeben')"
   ]
  },
  {
   "cell_type": "code",
   "execution_count": null,
   "id": "5671d69c",
   "metadata": {},
   "outputs": [],
   "source": []
  }
 ],
 "metadata": {
  "kernelspec": {
   "display_name": "Python 3",
   "language": "python",
   "name": "python3"
  },
  "language_info": {
   "codemirror_mode": {
    "name": "ipython",
    "version": 3
   },
   "file_extension": ".py",
   "mimetype": "text/x-python",
   "name": "python",
   "nbconvert_exporter": "python",
   "pygments_lexer": "ipython3",
   "version": "3.8.8"
  }
 },
 "nbformat": 4,
 "nbformat_minor": 5
}
