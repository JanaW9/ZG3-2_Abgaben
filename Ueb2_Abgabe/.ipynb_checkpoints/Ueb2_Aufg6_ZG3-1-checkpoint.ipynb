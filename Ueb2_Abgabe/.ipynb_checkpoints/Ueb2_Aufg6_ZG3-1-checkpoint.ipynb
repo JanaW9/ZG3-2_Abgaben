{
 "cells": [
  {
   "cell_type": "markdown",
   "id": "ebf17d58",
   "metadata": {},
   "source": [
    "a)str(a) ist eine explizite Typkonvertierung, aber sie wird keiner Variable zugewiesen. Bedeutet, dass die Variable a= den Datentyp float behält und a_int ein integer bleibt.Eine explizite Typkonvertierung ist eine Datentypumwanlung der Variable. type(variable) ist ein Buildinfunktion.\n",
    "Man kann die Variablen mit dem Konkatinationsoperator verknüpfen. Dann muss man die Variable jedoch explizit in einen String konvertieren. Dadurch, dass die Typkonvertierung keiner Variable zugewiesen wird, behält die Variable ihren Datentyp. Wird nur als String ausgegeben. Anders wären es bei c=str(a), dann würde c= den datentyp string haben."
   ]
  },
  {
   "cell_type": "code",
   "execution_count": 2,
   "id": "811b6fad",
   "metadata": {},
   "outputs": [
    {
     "name": "stdout",
     "output_type": "stream",
     "text": [
      "Das original: 1.1, als int: 1\n",
      "<class 'int'>\n"
     ]
    }
   ],
   "source": [
    "a = 1.1\n",
    "a_int = int(a)\n",
    "print(\"Das original: \" + str(a) +  \", als int: \" + str(a_int))\n",
    "print(type(a_int))"
   ]
  },
  {
   "cell_type": "markdown",
   "id": "11d720ed",
   "metadata": {},
   "source": [
    "b)Input Funktion ist eine Buildinfunktion. Sie fordert den Benutzer auf einen Wert in die Eingabebox einzugeben. Man kann nicht jeden String in einen Integer verwandeln. Python kann keinen String mit Kommazahl in einen Integer \n",
    "umwandeln. Deshalb muss man zu erst eine explizite Typkonvertierung der Input Funktionsanweisung machen. Das ist eine verschachtelte Funktionsanweisung, das Programm liest die Funktion von innen nach außen ab. Das Ergebnis \n",
    "der  Input Funktion wird standartmäßig ein Sting vom Datentyp. Daher wird es durch die Typkonvertierung in einen Float\n",
    "umgewandelt, damit wir es überhaupt in einen Integer umwandeln können. Um eine Ganzzahl in der Ausgabe zu haben, müssen wir eine explizite Typkonvertierung in der Printanweiusung machen. Eine verschachtelte Typkonvertierung."
   ]
  },
  {
   "cell_type": "code",
   "execution_count": 8,
   "id": "6bcefb95",
   "metadata": {},
   "outputs": [
    {
     "name": "stdout",
     "output_type": "stream",
     "text": [
      "Geben Sie eine Dezimalzahl ein: 2.75\n",
      "Ihre Dezimalzahl ist : 2.75 als Ganzzahl: 2\n",
      "<class 'int'>\n"
     ]
    }
   ],
   "source": [
    "b=float(input(\"Geben Sie eine Dezimalzahl ein: \"))\n",
    "b_ganz = int (b)\n",
    "print(\"Ihre Dezimalzahl ist : \"+str(b)+ \" als Ganzzahl: \"+ str(b_ganz))\n",
    "print(type(b_ganz))"
   ]
  },
  {
   "cell_type": "markdown",
   "id": "f8e021f7",
   "metadata": {},
   "source": [
    "c)man kann in der Printanweisung auch die Type Funktion zur Ermittlung des Datentyps einbinden.\n",
    "Die Funktion type ermittelt den Datenwert einer Variable und ist auch eine Buildinfunktion. Alle Buildinfunktionen können in andere Funktionen eingebettet werden. Hier in diesem Beispiel wird die Type Funktion in eine Printanweisung eingebaut. Eine verschachtelte Funktionsanweisung. Der Ausdruck in den Klammern wird zuerst ausgewertet."
   ]
  },
  {
   "cell_type": "code",
   "execution_count": 9,
   "id": "8065c22a",
   "metadata": {},
   "outputs": [
    {
     "name": "stdout",
     "output_type": "stream",
     "text": [
      "Die Ganzzahl hat den Datentyp:  <class 'int'> und die Dezimalzahl hat den Datentyp:  <class 'float'>\n"
     ]
    }
   ],
   "source": [
    "print(\"Die Ganzzahl hat den Datentyp: \" ,type(b_ganz), \"und die Dezimalzahl hat den Datentyp: \" ,type(b))"
   ]
  },
  {
   "cell_type": "code",
   "execution_count": null,
   "id": "80923eb0",
   "metadata": {},
   "outputs": [],
   "source": []
  }
 ],
 "metadata": {
  "kernelspec": {
   "display_name": "Python 3",
   "language": "python",
   "name": "python3"
  },
  "language_info": {
   "codemirror_mode": {
    "name": "ipython",
    "version": 3
   },
   "file_extension": ".py",
   "mimetype": "text/x-python",
   "name": "python",
   "nbconvert_exporter": "python",
   "pygments_lexer": "ipython3",
   "version": "3.8.8"
  }
 },
 "nbformat": 4,
 "nbformat_minor": 5
}
