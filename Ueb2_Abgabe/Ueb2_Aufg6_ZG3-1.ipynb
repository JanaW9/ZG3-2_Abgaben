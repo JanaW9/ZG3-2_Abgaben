{
 "cells": [
  {
   "cell_type": "markdown",
   "id": "ebf17d58",
   "metadata": {},
   "source": [
    "a) `str(a)` ist eine explizite Typkonvertierung, aber sie wird keiner Variable zugewiesen. Bedeutet, dass die Variable `a` den Datentyp float behält und `a_int` ein integer bleibt. Eine explizite Typkonvertierung ist eine Datentypumwanlung der Variable. `type(variable)` ist ein Funktionsaufruf einer Built-in Funktion.\n",
    "Eine Built-in Funktion ist eine Funktion die in Python enthalten ist und nicht importiert und selbst programmiert werden muss.    \n",
    "Der Antwortsatz wird durch eine Printanweisung ausgegeben. Das Argument der Funktion ist ein zusammengestzter String, der mit  dem Konkatinationsoperatoren verbunden ist.    \n",
    "Die Variablen müssen explizit Typkonvertiert werden, damit sie mit den Strings konkatiniert werden können. Die Ergebnisse der Typkonvertierung der Variablen werden  mit hilfe des Konkatinationsoperators mit dem Rest des Antwortsatzes verknüpfen. Dafür müssen die Argumente des Konkatinationsoperators vom Datentyp Strings sein, da der Operator nicht für Zahlen definiert ist.(Semantisch gemeint, das `+` hat eine andere Bedeutung für Zahlen).    \n",
    "\n",
    "Dadurch, dass die Typkonvertierung keiner Variable zugewiesen wird, behält die Variable ihren Datentyp. Wird nur als String ausgegeben. Anders wären es bei `c=str(a)`, dann würde `c` den datentyp string haben."
   ]
  },
  {
   "cell_type": "code",
   "execution_count": 2,
   "id": "811b6fad",
   "metadata": {},
   "outputs": [
    {
     "name": "stdout",
     "output_type": "stream",
     "text": [
      "Das original: 1.1, als int: 1\n",
      "<class 'int'>\n"
     ]
    }
   ],
   "source": [
    "a = 1.1 #Variable a wird implizit mit dem Wert 1.1 als Float initialisiert\n",
    "a_int = int(a) # Variable a wird explizit in einen Integer umgewandelt. Das Ergebnis des Funktionsaufrufs wird der Variable a_int zugewiesen.\n",
    "print(\"Das original: \" + str(a) +  \", als int: \" + str(a_int))#Der Antwortsatz wird ausgegeben. Siehe oben.\n",
    "print(type(a_int))#Ein verschachtelter Funktionsaufruf. Die Typefunktion gibt den Datentyp der Variable a_int an, durch die Printanweisung wird der Datentyp der Variable in der Konsole ausgegeben."
   ]
  },
  {
   "cell_type": "markdown",
   "id": "11d720ed",
   "metadata": {},
   "source": [
    "b) Die `input` Funktion ist eine Built-in Funktion. Sie fordert den Benutzer auf einen Wert in die Eingabebox einzugeben. \n",
    "Man kann nicht jeden String in einen Integer verwandeln. Python kann keinen String mit Kommazahl in einen Integer \n",
    "umwandeln. Deshalb muss man zu erst eine explizite Typkonvertierung des `input` Funktionsergeebnisses machen.\n",
    "Das ist eine verschachtelte Funktionsanweisung, das Programm liest die Funktion von innen nach außen ab. Das Ergebnis \n",
    "der `input` Funktion wird standartmäßig ein String.\n",
    "\n",
    "\n",
    "Daher wird es durch die Typkonvertierung in einen Float\n",
    "umgewandelt, damit wir es überhaupt in einen Integer umwandeln können. Um eine Ganzzahl in der Ausgabe zu haben, müssen wir eine explizite Typkonvertierung in der `print`-anweiusung machen. Ein verschachtelter Funktionsaufruf."
   ]
  },
  {
   "cell_type": "code",
   "execution_count": 8,
   "id": "6bcefb95",
   "metadata": {},
   "outputs": [
    {
     "name": "stdout",
     "output_type": "stream",
     "text": [
      "Geben Sie eine Dezimalzahl ein: 2.75\n",
      "Ihre Dezimalzahl ist : 2.75 als Ganzzahl: 2\n",
      "<class 'int'>\n"
     ]
    }
   ],
   "source": [
    "b=float(input(\"Geben Sie eine Dezimalzahl ein: \"))\n",
    "b_ganz = int (b)\n",
    "print(\"Ihre Dezimalzahl ist : \"+str(b)+ \" als Ganzzahl: \"+ str(b_ganz))\n",
    "print(type(b_ganz))"
   ]
  },
  {
   "cell_type": "markdown",
   "id": "f8e021f7",
   "metadata": {},
   "source": [
    "c) Man kann in der Printanweisung auch die `type` Funktion zur Ermittlung des Datentyps einbinden.\n",
    "Die Funktion `type` ermittelt den Datentyp einer Variable und ist auch ein Built-in Funktion. Hier in diesem Beispiel wird die Type Funktion in eine Printanweisung eingebaut. Hier haben wir an Stelle von Konkatination, Print mehrere Argumente mit Kommata getrennt gegeben. In der Ausgabe werden die Argumente als String konvertiert, und mit Leerzeichen separiert, ausgegeben. Eine verschachtelte Funktionsanweisung. Der Ausdruck in den Klammern wird zuerst ausgewertet."
   ]
  },
  {
   "cell_type": "code",
   "execution_count": 9,
   "id": "8065c22a",
   "metadata": {},
   "outputs": [
    {
     "name": "stdout",
     "output_type": "stream",
     "text": [
      "Die Ganzzahl hat den Datentyp:  <class 'int'> und die Dezimalzahl hat den Datentyp:  <class 'float'>\n"
     ]
    }
   ],
   "source": [
    "print(\"Die Ganzzahl hat den Datentyp: \" ,type(b_ganz), \"und die Dezimalzahl hat den Datentyp: \" ,type(b))"
   ]
  }
 ],
 "metadata": {
  "kernelspec": {
   "display_name": "Python 3",
   "language": "python",
   "name": "python3"
  },
  "language_info": {
   "codemirror_mode": {
    "name": "ipython",
    "version": 3
   },
   "file_extension": ".py",
   "mimetype": "text/x-python",
   "name": "python",
   "nbconvert_exporter": "python",
   "pygments_lexer": "ipython3",
   "version": "3.8.8"
  }
 },
 "nbformat": 4,
 "nbformat_minor": 5
}
