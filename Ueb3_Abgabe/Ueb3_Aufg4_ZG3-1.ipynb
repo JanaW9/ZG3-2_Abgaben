{
 "cells": [
  {
   "cell_type": "code",
   "execution_count": 1,
   "id": "71cf833c",
   "metadata": {},
   "outputs": [
    {
     "name": "stdout",
     "output_type": "stream",
     "text": [
      "[6, 2, 5]\n",
      "[2]\n",
      "[2, 5]\n",
      "[6]\n",
      "[6, 2, 4]\n",
      "[1, 2, 4]\n",
      "[1, 2, 4, 4, 2]\n",
      "[1, 2, 4, 2]\n"
     ]
    }
   ],
   "source": [
    "#a) Anwesisungen aus Übung 2 mit Print überprüfen\n",
    "liste = [6, 2, 5]\n",
    "print(liste)\n",
    "#a)\n",
    "listea=liste[1:2]\n",
    "print(listea)\n",
    "#b)\n",
    "listeb=liste[1:]\n",
    "print(listeb)\n",
    "#c)\n",
    "listec=liste[ :1]\n",
    "print(listec)\n",
    "#d)\n",
    "liste[-1]=4\n",
    "print(liste)\n",
    "#e)\n",
    "liste[0] = 1\n",
    "print(liste)\n",
    "#f)\n",
    "liste = liste + [4, 2] \n",
    "print(liste)\n",
    "#g)\n",
    "del(liste[3]) \n",
    "print(liste)"
   ]
  },
  {
   "cell_type": "markdown",
   "id": "ec9b94bb",
   "metadata": {},
   "source": [
    "b)Der Variable Liste wird durch ihr erneutes Aufführen in Verbindung mit einem Konkatenationsoperator die Elemente 3 und 7 angehängt. Diese Elemente müssen in Listenzeichen gestellt werden. Listenzeichen sind die eckigen Klammern. Die Element  werden durch ein Kommata getrennt."
   ]
  },
  {
   "cell_type": "code",
   "execution_count": 2,
   "id": "afdbb94d",
   "metadata": {},
   "outputs": [
    {
     "name": "stdout",
     "output_type": "stream",
     "text": [
      "[1, 2, 4, 2, 3, 7]\n"
     ]
    }
   ],
   "source": [
    "listeneu=[3,7]\n",
    "liste=liste + listeneu\n",
    "print(liste)"
   ]
  },
  {
   "cell_type": "markdown",
   "id": "2d255b20",
   "metadata": {},
   "source": [
    "c)Der Funktionsaufruf `del`  hat als Ausdruck die Variable liste.\n",
    "Die Funktion `del`  ist eine Löschfunktion und löscht den im Ausdruck definierten bereich.\n",
    "Aus der Variable Liste sollen die Elemente 2-4 gelöscht werden.\n",
    "Im Listenzeichen [] wird der Bereich des Indexes angegeben, der Bereich wird durch das Bereichszeichen \":\" definiert.\n",
    "Obwohl der Index bis 5 angegeben wurde, wird nur bis zum 4. Element gelöscht. Da das Element, was als Ende angegeben wird hinter dem Bereichszeichen, als exklusiv wahrgenommen wird."
   ]
  },
  {
   "cell_type": "code",
   "execution_count": 3,
   "id": "23f8e670",
   "metadata": {},
   "outputs": [
    {
     "name": "stdout",
     "output_type": "stream",
     "text": [
      "[1, 2, 7]\n"
     ]
    }
   ],
   "source": [
    "del(liste[2:5])\n",
    "print(liste)"
   ]
  },
  {
   "cell_type": "markdown",
   "id": "2d958722",
   "metadata": {},
   "source": [
    "d)Dem Index 2 der Liste wird durch den Zuweisungsoperator das Element 8 zugeschrieben. Mit der built- in Funktion ` Print` , kann mit der Ausgabe der Liste überprüft werden, ob dem Index 2 das Element 8 zugewiesen wurde.\n",
    "Built- In Funktionen sind Funktionen die schon im Programm entahleten sind, die Funktionen müssen nicht erst aus einer Library importiert werden."
   ]
  },
  {
   "cell_type": "code",
   "execution_count": 4,
   "id": "2f091b2a",
   "metadata": {},
   "outputs": [
    {
     "name": "stdout",
     "output_type": "stream",
     "text": [
      "[1, 2, 8]\n"
     ]
    }
   ],
   "source": [
    "liste[2]= 8\n",
    "print(liste)"
   ]
  },
  {
   "cell_type": "code",
   "execution_count": null,
   "id": "5eea9da2",
   "metadata": {},
   "outputs": [],
   "source": []
  }
 ],
 "metadata": {
  "kernelspec": {
   "display_name": "Python 3",
   "language": "python",
   "name": "python3"
  },
  "language_info": {
   "codemirror_mode": {
    "name": "ipython",
    "version": 3
   },
   "file_extension": ".py",
   "mimetype": "text/x-python",
   "name": "python",
   "nbconvert_exporter": "python",
   "pygments_lexer": "ipython3",
   "version": "3.8.8"
  }
 },
 "nbformat": 4,
 "nbformat_minor": 5
}
