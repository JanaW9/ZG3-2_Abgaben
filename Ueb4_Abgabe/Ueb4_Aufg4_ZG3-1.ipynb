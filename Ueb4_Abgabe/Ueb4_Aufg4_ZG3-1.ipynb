{
 "cells": [
  {
   "cell_type": "markdown",
   "id": "a67c1919",
   "metadata": {},
   "source": [
    "Aufgabe 4 (Typ C)    \n",
    "* a) Erzeugen Sie in einer Notebook-Zelle eine Liste liste mit vier Ganzzahlen  \n",
    "* b) Geben Sie liste am Bildschirm aus \n",
    "* c) Danach sollen alle Listenelemente aufsummiert und ein entsprechender Satz, der die einzelnen \n",
    "Listenwerte und die Summe enthält, am Bildschirm ausgegeben werden. Beim Aufsummieren \n",
    "soll zunächst keine Funktion (sum) verwendet, sondern eine einfache Addition der \n",
    "Listenelemente  mit  Additionsoperatoren  durchgeführt  werden.  Die  Ausgabe  sollte  also  etwa  \n",
    "folgendermaßen aussehen:      \n",
    "[2, 3, 54, 24] Summe aus 2 3 54 24   = 83    \n",
    "Benutzen Sie bei d)-f) jeweils die entsprechenden Listenfunktionen und geben Sie das Erfragte am \n",
    "Bildschirm aus:      \n",
    "* d) Fügen Sie den Wert 3 als weiteres Listenelement hinzu und lassen Sie erneut die Summe aller \n",
    "Listenelemente errechnen (mit Hilfe der entsprechenden Funktion). \n",
    "* e) Lassen Sie ermitteln, bei welchem Index das erste Mal der Wert 3 in der Liste auftritt. \n",
    "* f) Lassen Sie ermitteln, wie viele Elemente die Liste aktuell hat. \n",
    "* g) Lassen  Sie  das  zuletzt  zugefügte  Element  wieder  herausnehmen;  geben  Sie  dieses  Element sowie die neu entstandene Liste am Bildschirm aus."
   ]
  },
  {
   "cell_type": "code",
   "execution_count": 1,
   "id": "cb326a9f",
   "metadata": {},
   "outputs": [
    {
     "name": "stdout",
     "output_type": "stream",
     "text": [
      "[1, 2, 3, 4]\n",
      "Summe aus :  \t 1 \t 2 \t 3 \t 4 \n",
      " = 10\n"
     ]
    }
   ],
   "source": [
    "#a)Vier Elemente werden der Variable Liste zugewiesen, durch den Zuweisungsoperator gleich. Liste ist eine Zeigervariable.Die Elemente werden in eckige Klammern geschrieben.Die Elemente sind vom Datentyp Integer.\n",
    "Liste=[1,2,3,4]\n",
    "#b)Die Liste wird durch den Funktionsaufruf ausgegeben. \n",
    "print(Liste)\n",
    "#c)Listenelemente werden addieren. Über den Index kann man auf die Elemente zugreifen.\n",
    "summe= Liste[0]+Liste[1]+Liste[2]+Liste[3]#Berechnet die Summe der Elemente der Liste über den Index. Damit ist der Code universell, man kan leicht den Wert der Indexe verändern.\n",
    "print(\"Summe aus : \",\"\\t\" ,Liste[0],\"\\t\",Liste[1],\"\\t\",Liste[2],\"\\t\",Liste[3],\"\\n =\" , summe)#durch die Bezeichnerangabe und den Index werden die Elemente der Liste eingebunden. Mit Kommata werden die Elemente der Liste von den Strings getrennt."
   ]
  },
  {
   "cell_type": "code",
   "execution_count": 2,
   "id": "fa20d3c7",
   "metadata": {},
   "outputs": [
    {
     "name": "stdout",
     "output_type": "stream",
     "text": [
      "[1, 2, 3, 4, 3]\n",
      "13\n"
     ]
    }
   ],
   "source": [
    "#d) Eine Element hinzufügen mit der Push-Funktion \"append\". Dies ist ein Methodenaufruf. In diesem spezifischen Fall ist \"append\" eine Listenmethode, alles zusammen ist ein Methodenaufruf.\n",
    "Liste.append(3)#Man schreibt zunächst den Bezeichner der Liste trennt die Methode mit einem Punkt ab und schriebt in die Klammern das Element, welches man ergänzen möchte.\n",
    "print(Liste)\n",
    "print(sum(Liste))#Sum ist ein Funktionsaufruf, der die Elemente einer Liste summiert. Ein verschachtleter Funktionsaufruf in der Printfunktion. Das Argument ist die Sum Funktion, das Argument der Sum Funktion ist Variable Liste."
   ]
  },
  {
   "cell_type": "code",
   "execution_count": 3,
   "id": "ab809a24",
   "metadata": {},
   "outputs": [
    {
     "name": "stdout",
     "output_type": "stream",
     "text": [
      "2\n"
     ]
    }
   ],
   "source": [
    "#e)Mit der Methode Index wird die Liste nach dem Wert:3 abgesucht. Der Index an dem \"3\" das erste mal auftaucht wird ausgegeben.Funktioniert syntaxtisch ähnlich wie die Methode append.\n",
    "print(Liste.index(3))"
   ]
  },
  {
   "cell_type": "code",
   "execution_count": 4,
   "id": "590ac533",
   "metadata": {},
   "outputs": [
    {
     "name": "stdout",
     "output_type": "stream",
     "text": [
      "5\n"
     ]
    }
   ],
   "source": [
    "#f)Der Funktion \"len\" gibt die Anzahl der Elemente einer Liste wieder.Da die \"len Funktion\" in einer Printfunktion ausgeführt wird ist dies ein: verschachtelter Funktionsaufruf. \n",
    "print(len(Liste))"
   ]
  },
  {
   "cell_type": "code",
   "execution_count": 5,
   "id": "edf60ebc",
   "metadata": {},
   "outputs": [
    {
     "name": "stdout",
     "output_type": "stream",
     "text": [
      "[1, 2, 3, 4, 3]\n",
      "3\n",
      "[1, 2, 3, 4]\n"
     ]
    }
   ],
   "source": [
    "#g)\n",
    "print(Liste)\n",
    "print(Liste.pop())#Pop ist eine Pushfunktion. Das ist ein Methodenaufruf. Pop gibt das letzte Element aus und löscht es aus der Liste.\n",
    "print(Liste)"
   ]
  },
  {
   "cell_type": "code",
   "execution_count": null,
   "id": "c8219d01",
   "metadata": {},
   "outputs": [],
   "source": []
  }
 ],
 "metadata": {
  "kernelspec": {
   "display_name": "Python 3",
   "language": "python",
   "name": "python3"
  },
  "language_info": {
   "codemirror_mode": {
    "name": "ipython",
    "version": 3
   },
   "file_extension": ".py",
   "mimetype": "text/x-python",
   "name": "python",
   "nbconvert_exporter": "python",
   "pygments_lexer": "ipython3",
   "version": "3.8.8"
  }
 },
 "nbformat": 4,
 "nbformat_minor": 5
}
