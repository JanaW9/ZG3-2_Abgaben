{
 "cells": [
  {
   "cell_type": "markdown",
   "id": "1d642b16",
   "metadata": {},
   "source": [
    "**Aufgabe 4 (Typ C)**          \n",
    "Es werden über den Tag viermal der systolische und diastolische Blutdruck bei einer Person gemessen. \n",
    "Erstellen  Sie  eine  (zweidimensionale)  Liste  mit  den  vier  Paaren  von  Blutdruckwerten  (systolisch, diastolisch).    \n",
    "Geben Sie danach diese Werte in korrekter Reihenfolge am Bildschirm aus. Der Ausdruck \n",
    "soll etwa folgendermaßen aussehen:    \n",
    "**Blutdruckwerte 1:**        \n",
    "    systol.: 120 // diast.: 82         \n",
    "**Blutdruckwerte 2:**    \n",
    "    systol.: 125 // diast.: 86         \n",
    "**Blutdruckwerte 3:**        \n",
    "    systol.: 117 // diast.: 79     \n",
    "**Blutdruckwerte 4:**        \n",
    "    systol.: 121 // diast.: 84 "
   ]
  },
  {
   "cell_type": "code",
   "execution_count": 4,
   "id": "b9dc09dd",
   "metadata": {},
   "outputs": [
    {
     "name": "stdout",
     "output_type": "stream",
     "text": [
      "Blutdruckwert 1:\n",
      " \t systole :120 diast.: 82\n",
      " Blutdruckwert 2:\n",
      " \t systole :125 diast.: 86\n",
      " Blutdruckwert 3:\n",
      " \t systole :117 diast.: 79\n",
      " Blutdruckwert 4:\n",
      " \t systole :121 diast.: 84\n"
     ]
    }
   ],
   "source": [
    "bw=[[120,82],[125,86],[117,79],[121,84]]#zweidimensionale Liste. 4 Wertepaare. Systole und Diastole wurden jeweils in einer Liste gespeichert. Die Listenelemente müssen mit Kommata getrennt werden. Auch Listen werden mit Kommata voneiander getrennt innerhalb einer Liste.Zweidiemensionale Listen erkennt man an den zwei eckigen Klammern am Anfang und am Ende, nicht an der Anzahl der Elemente!\n",
    "Bw1=\"Blutdruckwert 1:\\n \\t systole :\"+ str(bw[0][0])+\" diast.: \"+str(bw[0][1])+\"\\n\" #die Integer wurden explizit Typkonvertiert um sie mit den anderen Strings zu konkatinieren.\n",
    "Bw2=\"Blutdruckwert 2:\\n \\t systole :\"+ str(bw[1][0])+\" diast.: \"+str(bw[1][1])+\"\\n\" #Die Werte wurden einer Variable zugewiesen mit dem Zuweisungsoperator\n",
    "Bw3=\"Blutdruckwert 3:\\n \\t systole :\"+ str(bw[2][0])+\" diast.: \"+str(bw[2][1])+\"\\n\" #mit [][] zwei eckigen Klammerpaaren greift man auf die Indizes zu. Die erste Klammer greift auf die Liste zu, die zweite auf das Element innerhalb einer Liste. [0][0]=die nullte Liste, das nullte Element\n",
    "Bw4=\"Blutdruckwert 4:\\n \\t systole :\"+ str(bw[3][0])+\" diast.: \"+str(bw[3][1]) #mit\\n und \\t den Escapesequenzen wurden die Werte übersichtlicher ausgegebn\n",
    "print(Bw1,Bw2,Bw3,Bw4)"
   ]
  },
  {
   "cell_type": "code",
   "execution_count": null,
   "id": "e8727d09",
   "metadata": {},
   "outputs": [],
   "source": []
  }
 ],
 "metadata": {
  "kernelspec": {
   "display_name": "Python 3",
   "language": "python",
   "name": "python3"
  },
  "language_info": {
   "codemirror_mode": {
    "name": "ipython",
    "version": 3
   },
   "file_extension": ".py",
   "mimetype": "text/x-python",
   "name": "python",
   "nbconvert_exporter": "python",
   "pygments_lexer": "ipython3",
   "version": "3.8.8"
  }
 },
 "nbformat": 4,
 "nbformat_minor": 5
}
