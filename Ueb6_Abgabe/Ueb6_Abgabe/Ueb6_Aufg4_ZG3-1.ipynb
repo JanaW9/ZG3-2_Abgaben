{
 "cells": [
  {
   "cell_type": "markdown",
   "id": "485f2f01",
   "metadata": {},
   "source": [
    "## **Aufgabe 4** (Typ C)     \n",
    "Definieren Sie eine eigene Funktion „doppeltePotenz“, welche das Doppelte der Potenz aus einer \n",
    "Basiszahl und einem Exponenten zurückgibt    \n",
    "(Bsp.: Basis: 2; Exponent: 3; Rückgabewert: $2*2^3 = 16$). \n",
    "Geben Sie das Ergebnis für mindestens zwei Basis/Exponent-Kombinationen am Bildschirm aus, \n",
    "indem Sie innerhalb des print-Aufrufs ihre Funktion aufrufen.     \n",
    "(Der Aufruf der print-Funktion soll außerhalb der Funktion erfolgen.) "
   ]
  },
  {
   "cell_type": "code",
   "execution_count": 1,
   "id": "793dc66c",
   "metadata": {},
   "outputs": [
    {
     "name": "stdout",
     "output_type": "stream",
     "text": [
      "16\n",
      "13122\n",
      "50\n"
     ]
    }
   ],
   "source": [
    "def doppeltePotenz(b,e):\n",
    "    erg=2*b**e\n",
    "    return erg\n",
    "print(doppeltePotenz(2,3))    \n",
    "print(doppeltePotenz(3,8))  \n",
    "print(doppeltePotenz(5,2)) "
   ]
  },
  {
   "cell_type": "markdown",
   "id": "add27797",
   "metadata": {},
   "source": [
    "### Syntax und Semantik\n",
    "In Python kann man selber Funktionen definieren. Dies ist für die weitere Anwendung im Programmverlauf sehr praktisch, um nicht immer wieder den gleichen Ausdruck wiederholen zu müssen.         \n",
    "Um eine Funktion zu definieren wird sie mit **def** angekündigt, dann folgt der selbsgewählte **Funktionsname** in die Klammern dahinter werden **Parameter** geschrieben. Das ist der Funktionskopf.    \n",
    "In diesem Beispiel ist `doppeltePotenz`der `Funktionsname` und `b,e`sind die `Parameter(b=Basis,e=Exponent)` am Ende des Funktionskopf muss ein Doppelpunkt stehen.           \n",
    "Um Python zu kennzeichnen, dass das folgende zur Funktion gehört, wird dies mit `vier Leerzeichen`oder `Tab`eingerückt. Das bildet den Funktionsrumpf. Der mathematische Ausdruck wird ausgewertet und der Wert,des Ausdrucks wird der Variable `erg` zugewiesen.          \n",
    "**return** leitet das Ende der Funktion ein.`return`muss immer am Ende stehen.Der Rückgabewert der Funktion wird  an die Stelle des jeweiligen Funktionsaufrufs zurückgeliefert, an der Stelle kann dann damit weiter gearbeitet werden.\n",
    "Anschließend folgen zwei `Print Funktionen`.    \n",
    "Dies sind verschachtelte Funktionsaufrufe, da in der `Print Funktion` die `doppeltePotenzFunktion`aufgerufen wird. Python wertet immer von **innen** nach **außen** aus. Daher wird erst die `doppeltePotenzFunktion`aufgerufen, dass Argument sind zwei `Integer`, die nun in den Funktionsrumpf an Stelle von `b`und `e`eingestzt werden. Zuletzt gibt die `Print Anweisung` das Ergebnis an der Konsole aus."
   ]
  },
  {
   "cell_type": "code",
   "execution_count": null,
   "id": "e9cec839",
   "metadata": {},
   "outputs": [],
   "source": []
  }
 ],
 "metadata": {
  "kernelspec": {
   "display_name": "Python 3",
   "language": "python",
   "name": "python3"
  },
  "language_info": {
   "codemirror_mode": {
    "name": "ipython",
    "version": 3
   },
   "file_extension": ".py",
   "mimetype": "text/x-python",
   "name": "python",
   "nbconvert_exporter": "python",
   "pygments_lexer": "ipython3",
   "version": "3.8.8"
  }
 },
 "nbformat": 4,
 "nbformat_minor": 5
}
