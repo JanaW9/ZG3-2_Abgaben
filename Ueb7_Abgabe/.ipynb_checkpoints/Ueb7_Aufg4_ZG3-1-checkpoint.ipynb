{
 "cells": [
  {
   "cell_type": "markdown",
   "id": "fdea8446",
   "metadata": {},
   "source": [
    "## Aufgabe 4 (Typ C) ##   \n",
    "Sie  haben  einen  Kapitalbetrag  von  `66,66  EURO`,  den  sie  mit  einem  Zinssatz  von ` 8`  %  für  `10`  Jahre  \n",
    "anlegen.  Schreiben  sie  ein  Programm,  welches  den  Endwert  nach  diesen  10  Jahren  errechnet  und  in  \n",
    "einem  Antwortsatz  am  Bildschirm  ausgibt.  Dabei  soll  der  Endwert  auf  2  Stellen  hinter  dem  Komma  \n",
    "gerundet sein.     \n",
    "(Tipp 1: Der Endwert ergibt sich nach der Formel: endWert = kapitalBetrag * (1+zinsSatz/100)anzahlJahre)          \n",
    "Tipp 2: Der Funktionsaufruf round(x,2) hat den auf zwei Stellen hinter dem Komma gerundeten Wert     \n",
    "von x als Rückgabewert.)    \n",
    "**a)** Berechnen Sie endWert zunächst ohne Aufruf einer Funktion.     \n",
    "**b)** Verwenden Sie in einer Alternativlösung zur endWert-Berechnung bei der Potenzberechnung     \n",
    "(1+zinsSatz/100)anzahlJahre die Potenzmethode pow aus dem Paket math.  [pow erwartet beim Aufruf zwei Argumente: pow(basis, exponent);  in dieser Aufgabe wäre also (1+zinsSatz/100) die Basis und anzahlJahre der Exponent.]     \n",
    "**c)** Ergänzen Sie Ihre Lösung von b), indem Sie ein einfaches Liniendiagramm erstellen: Es \n",
    "sollen dabei nur der Anfangsbetrag im Jahr 0 und der Endbetrag im Jahr 10 als Werte \n",
    "vorgegeben werden. Die x-Achse soll mit „Jahre“, die y-Achse mit „Betrag“ beschriftet \n",
    "werden; die Gesamtgraphik soll die Überschrift „Kapitalbetrag nach Jahren“ erhalten. \n",
    "(Verwenden Sie dazu matplotlib.) "
   ]
  },
  {
   "cell_type": "code",
   "execution_count": 1,
   "id": "02aba6d7",
   "metadata": {},
   "outputs": [
    {
     "name": "stdout",
     "output_type": "stream",
     "text": [
      "Nach 10 Jahren Anlage, von 66.66€, bei 8% Zinsen hat man:  143.91 Euro\n"
     ]
    }
   ],
   "source": [
    "#a)\n",
    "endWert=66.66*(1+8/100)**10\n",
    "print(\"Nach 10 Jahren Anlage, von 66.66€, bei 8% Zinsen hat man: \",round(endWert,2),\"Euro\")"
   ]
  },
  {
   "cell_type": "markdown",
   "id": "d9745b9d",
   "metadata": {},
   "source": [
    "**Berechnung ohne Funktion**\n",
    "Variable wird einem Ausruck zugewiesen, mit dem Zuweisungsoperator `=`. Der Ausdruck wir erst ausgewertet,dann wird der Ergebniswert des Ausdrucks, in der Variable gespeichert.\n",
    "`print(round(endWert,2)`ist ein verschachtelter Funktionsaufruf. Python wertet von innen nach außen aus. Daher wird als erstets die `round Funktion`ausgewertet. Man gibt die Variable ind die Klammern als Parameter, der zwite Parameter steht für die Anzahl der Nachkommastellen, in diesem Fall soll auf 2 Nachkommastellen gerundet werden. Anschließend, wird die äußere Funktion ausgewertet, `print`, das Argument der Funktion war die round Funktion, daher wird die Zahl nun nur noch ausgegeben."
   ]
  },
  {
   "cell_type": "code",
   "execution_count": 3,
   "id": "22482351",
   "metadata": {},
   "outputs": [
    {
     "name": "stdout",
     "output_type": "stream",
     "text": [
      "Wenn man den Betrag 66,66€ für 10 Jahren anlegt, bei einem Zinssatz von 8% liegt der Betrag bei:   143.91 Euro\n"
     ]
    }
   ],
   "source": [
    "#b)\n",
    "from math import pow\n",
    "def endWert(kB,zS,aJ):\n",
    "    endWert=kB*pow(1+zS/100,aJ)\n",
    "    endWert=round(endWert,2)\n",
    "    return endWert\n",
    "print(\"Wenn man den Betrag 66,66€ für 10 Jahren anlegt, bei einem Zinssatz von 8% liegt der Betrag bei:  \",endWert(66.66,8,10),\"Euro\")"
   ]
  },
  {
   "cell_type": "markdown",
   "id": "2ced9802",
   "metadata": {},
   "source": [
    "**Alternativlösung mit pow**\n",
    "Aus dem Pakte math wird die Methode `pow`importiert. \n",
    "`def`kündigt den Funktionskopf, die Funktionsdefinition an. Der Funktionsname wir hinter def geschrieben, in die Klammern kommen die Bezeichner der Variablen, der Funktionskopf wird mit einem Doppelpunkt abgeschlossen.\n",
    "Der Funktionskörper ist eingerückt. Funktionsname=Ausdruck. In dem Ausdruck ist die Methode pow angewandt worden. pow wird zum potenzieren verwendet. Man schreibt in die Klammern die Basis als ersten Wert und mit Komma getrennt den Exponenten, als zweiten Wert.\n",
    "Dieser Ausdruck wird ausgewertet und der Variable `endWert`zugewiesnen. Die Funktion `round`rundet das Ergebnis. In dem Argument der Funktion muss der Variablenname stehen, auf der die Funktion angewendet wird und mit Komma getrennt steht die Nachkommaanzahlstellle dahinter. \n",
    "`return`gibt den Rückgabewert an den Funktionsaufuf in der Print Anweisung. Hier wieder ein verschachtelter Funktionsaufruf. Erst wird die Funktion `endWert`ausgewertet, dann durch ein Komma an die anderen Strings verknüpft ausgegeben."
   ]
  },
  {
   "cell_type": "code",
   "execution_count": 4,
   "id": "f60ee1e2",
   "metadata": {},
   "outputs": [
    {
     "data": {
      "image/png": "[encoded data removed]",
      "text/plain": [
       "<Figure size 432x288 with 1 Axes>"
      ]
     },
     "metadata": {
      "needs_background": "light"
     },
     "output_type": "display_data"
    }
   ],
   "source": [
    "#c)\n",
    "import matplotlib.pyplot as plt\n",
    "year=[0,10]\n",
    "money=[66.66,143.91]\n",
    "plt.plot(year,money)\n",
    "plt.title(\"Kapitalbetrag nach Jahren\")\n",
    "plt.xlabel(\"Jahre\")\n",
    "plt.ylabel(\"Betrag\")\n",
    "plt.show()"
   ]
  },
  {
   "cell_type": "markdown",
   "id": "fe3faa9e",
   "metadata": {},
   "source": [
    "**Liniendiagramm**\n",
    "Mit Import, kann man ein Package importieren,`as plt`= damit kann man den langen Packagenamen abkürzen, für die weitere Verwendung ist das deutlich praktischer. \n",
    "Es werden zwei Listen erstellt. Eine Liste für die Jahre und eine für die Beträge. Die Namen der Liste sind Zeigervariablen, jeweils zwei Elemente werden den Variablen zugewiesen. \n",
    "Die Methode `plt.plot`ist eine Methode aus dem Package `matplotlib.pyplot`, erstellt ein Liniendiagramm aus den Listen die in Klammern übergeben werden. Der Methodenaufruf `plt.plot(year,money)`hat die Argumente `year`und `money`die stehen für die Listen. Das erste Argument steht immer für die X-Achse und das zweite für die y- Achse.\n",
    "Mit dem Methodenaufruf `.xlabel`kann man die x Achse beschriften. In Klammern und als String schreibt man die gewünschte Beschriftung.Mit`.ylabel` kann man die y Achse beschriften.\n",
    "Mit dem Methodenaufruf`.title` kann man dem Diagramm eine Überschrift geben.\n",
    "Die Methode `plt.show`ist zu vergleichen mit der Print Funktion, sie gibt das Diagramm aus."
   ]
  },
  {
   "cell_type": "code",
   "execution_count": null,
   "id": "bfaf6b75",
   "metadata": {},
   "outputs": [],
   "source": []
  }
 ],
 "metadata": {
  "kernelspec": {
   "display_name": "Python 3",
   "language": "python",
   "name": "python3"
  },
  "language_info": {
   "codemirror_mode": {
    "name": "ipython",
    "version": 3
   },
   "file_extension": ".py",
   "mimetype": "text/x-python",
   "name": "python",
   "nbconvert_exporter": "python",
   "pygments_lexer": "ipython3",
   "version": "3.8.8"
  }
 },
 "nbformat": 4,
 "nbformat_minor": 5
}
