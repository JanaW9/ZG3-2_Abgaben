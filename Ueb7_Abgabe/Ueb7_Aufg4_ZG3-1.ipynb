{
 "cells": [
  {
   "cell_type": "code",
   "execution_count": 6,
   "id": "d773e2ec",
   "metadata": {},
   "outputs": [
    {
     "name": "stdout",
     "output_type": "stream",
     "text": [
      "Bei eineme Kapitalbetrag von 66,66€ für 10 Jahre Anlage, bei einem Zinssatz von 8% liegt der Betrag bei: 143.91 Euro\n"
     ]
    }
   ],
   "source": [
    "#a)\n",
    "endWert=66.66*(1+8/100)**10\n",
    "print(\"Bei eineme Kapitalbetrag von 66,66€ für 10 Jahre Anlage, bei einem Zinssatz von 8% liegt der Betrag bei:\", round(endWert,2),\"Euro\")"
   ]
  },
  {
   "cell_type": "markdown",
   "id": "f78350bb",
   "metadata": {},
   "source": [
    "**Berechnung ohne Funktion**\n",
    "Variable wird einem Ausruck zugewiesen, mit dem Zuweisungsoperator `=`. Der Ausdruck wird erst ausgewertet,dann wird der Ergebniswert des Ausdrucks, in der Variable gespeichert.\n",
    "`print(round(endWert,2)`ist ein verschachtelter Funktionsaufruf. Python wertet von innen nach außen aus. Daher wird als erstes die `round Funktion`ausgewertet. Man gibt die Variable in die Klammern als Parameter, der zweite Parameter steht für die Anzahl der Nachkommastellen, in diesem Fall soll auf 2 Nachkommastellen gerundet werden. Anschließend, wird die äußere Funktion ausgewertet, `print`, das Argument der Funktion war die round Funktion, daher wird die Zahl nur noch ausgegeben."
   ]
  },
  {
   "cell_type": "code",
   "execution_count": 9,
   "id": "55723f81",
   "metadata": {},
   "outputs": [
    {
     "name": "stdout",
     "output_type": "stream",
     "text": [
      "Wenn man den Betrag 66,66€ für 10 Jahren anlegt, bei einem Zinssatz von 8% liegt der Betrag bei:   143.91 Euro\n"
     ]
    }
   ],
   "source": [
    "#b)\n",
    "from math import pow\n",
    "endWert2=round(66.66*pow(1+8/100,10),2)\n",
    "print(\"Wenn man den Betrag 66,66€ für 10 Jahren anlegt, bei einem Zinssatz von 8% liegt der Betrag bei:  \",endWert2,\"Euro\")"
   ]
  },
  {
   "cell_type": "markdown",
   "id": "2c579772",
   "metadata": {},
   "source": [
    "**Alternativlösung mit pow**\n",
    "Aus dem Paket `math` wird durch die `from` und `import`Anweisung, die Funktion `pow` importiert.\n",
    "Variable `endWert2` bekommt einen Wert eines verschachtelten Funktionsaufrufs zugewiesen.   \n",
    "Der Wert wird errechnt aus der Funktionsanweisung `pow`. Dieser hat als Basis die Berechnung 1+8/100 und als Exponent   10(8/100=Zinssatz,10=Anzahl der Jahre,66.66 Kapitalbetrag). Vor  pow, wird der Wert von pow noch mal 66.66 genommen. \n",
    "\n",
    "\n",
    "Dieser Ausdruck wird ausgewertet und der Variable `endWert`zugewiesnen. Die Funktion `round`rundet das Ergebnis,in diesem Fall auf die 2. Nachkommastelle. In dem Argument der Funktion muss der Variablenname stehen, auf der die Funktion angewendet wird und mit Komma getrennt steht die Nachkommastelle dahinter.    \n",
    "Durch die Printanweisung, wird der `endWert2` in Verbindung mit einem String, zu einem Antwortsatz ausgegeben. Der String und die Variable werden mit Komma getrennt."
   ]
  },
  {
   "cell_type": "code",
   "execution_count": 10,
   "id": "99a85cff",
   "metadata": {},
   "outputs": [
    {
     "data": {
      "image/png": "[encoded data removed]",
      "text/plain": [
       "<Figure size 432x288 with 1 Axes>"
      ]
     },
     "metadata": {
      "needs_background": "light"
     },
     "output_type": "display_data"
    }
   ],
   "source": [
    "#c)\n",
    "import matplotlib.pyplot as plt\n",
    "year=[0,10]\n",
    "money=[66.66,143.91]\n",
    "plt.title(\"Kapitalbetrag nach Jahren\")\n",
    "plt.xlabel(\"Jahre\")\n",
    "plt.xticks([1,10])\n",
    "plt.ylabel(\"Betrag\")\n",
    "plt.plot(year,money)\n",
    "plt.show()"
   ]
  },
  {
   "cell_type": "markdown",
   "id": "15fa9727",
   "metadata": {},
   "source": [
    "**Liniendiagramm**\n",
    "Mit Import, kann man ein Package importieren,`as `plt= damit kann man den langen Packagenamen abkürzen, für die weitere Verwendung ist das deutlich praktischer. \n",
    "Es werden zwei Listen erstellt. Eine Liste für die Jahre und eine für die Beträge. Die Namen der Liste sind Zeigervariablen, jeweils zwei Elemente werden den Variablen zugewiesen. \n",
    "Die Methode `plt.plot`ist eine Methode aus dem Package `matplotlib.pyplot`, erstellt ein Liniendiagramm aus den Listen die in Klammern übergeben werden. Der Methodenaufruf `plt.plot(year,money)`hat die Argumente `year`und `money`die stehen für die Listen. Das erste Argument steht immer für die X-Achse und das zweite für die y- Achse.\n",
    "Mit dem Methodenaufruf `.xlabel`kann man die x Achse beschriften. In Klammern und als String schreibt man die gewünschte Beschriftung. Mit dem Methodenaufruf `.xticks`kann man die Werte an der X-Achse die gezeigt werden sollen, definieren, diese werden in eckige Klammern geschrieben. Mit`.ylabel` kann man die y Achse beschriften.\n",
    "Mit dem Methodenaufruf`.title` kann man dem Diagramm eine Überschrift geben.\n",
    "Die Methode `plt.show` gibt alle vorher definierten Methoden zu `plt`aus.   "
   ]
  },
  {
   "cell_type": "code",
   "execution_count": null,
   "id": "659b8b7b",
   "metadata": {},
   "outputs": [],
   "source": []
  }
 ],
 "metadata": {
  "kernelspec": {
   "display_name": "Python 3",
   "language": "python",
   "name": "python3"
  },
  "language_info": {
   "codemirror_mode": {
    "name": "ipython",
    "version": 3
   },
   "file_extension": ".py",
   "mimetype": "text/x-python",
   "name": "python",
   "nbconvert_exporter": "python",
   "pygments_lexer": "ipython3",
   "version": "3.8.8"
  }
 },
 "nbformat": 4,
 "nbformat_minor": 5
}
