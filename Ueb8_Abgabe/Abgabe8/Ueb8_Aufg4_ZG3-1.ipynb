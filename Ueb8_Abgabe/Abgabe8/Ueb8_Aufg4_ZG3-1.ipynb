{
 "cells": [
  {
   "cell_type": "markdown",
   "id": "53627b31",
   "metadata": {},
   "source": [
    "## Aufgabe 4 (Typ C) ##\n",
    "Schreiben Sie ein Programm, welches überprüft, ob ein Guthaben größer als `1000000 Euro` ist, und in \n",
    "diesem Falle den Satz \"Gratuliere, Du bist Millionaer!\" auf dem Bildschirm ausgibt. (Weisen Sie dabei \n",
    "zunächst der Variablen guthaben einen Wert zu oder ermöglichen Sie über die input-Methode für den \n",
    "Benutzer eine flexible Zahleingabe.)  "
   ]
  },
  {
   "cell_type": "code",
   "execution_count": null,
   "id": "ee4f6f8d",
   "metadata": {},
   "outputs": [],
   "source": [
    "guthaben=float(input(\"Bitte geben Sie Ihr Guthaben ein: \")) \n",
    "if guthaben >1000000 :\n",
    "    print(\"Gratuliere, Du bist Millionaer!\")"
   ]
  },
  {
   "cell_type": "markdown",
   "id": "d0a2867b",
   "metadata": {},
   "source": [
    "In der Variable `guthaben`wird der Wert gespeichert, der eingegeben wird durch die Input Funktion. Der Wert wird durch explizite Typkonvertierung in einen Float umgewandelt.`If Anweisungen sind bedingte Anweisungen`\n",
    "Die Kontrollstruktur `if` wird durch das Keyword `if`eingeleitet, dann folgt die Variable, durch den vergleichs Operator `größer als `wird der Wert der Variable mit der 1000000 verglichen. Dahinter muss ein Doppelpunkt folgen, das steht für `dann folgt`. Wenn `if `true ist, wird der eingerückte Anweisungsblock `print`ausgeführt."
   ]
  },
  {
   "cell_type": "code",
   "execution_count": null,
   "id": "1c53fd22",
   "metadata": {},
   "outputs": [],
   "source": []
  }
 ],
 "metadata": {
  "kernelspec": {
   "display_name": "Python 3",
   "language": "python",
   "name": "python3"
  },
  "language_info": {
   "codemirror_mode": {
    "name": "ipython",
    "version": 3
   },
   "file_extension": ".py",
   "mimetype": "text/x-python",
   "name": "python",
   "nbconvert_exporter": "python",
   "pygments_lexer": "ipython3",
   "version": "3.8.8"
  }
 },
 "nbformat": 4,
 "nbformat_minor": 5
}
