{
 "cells": [
  {
   "cell_type": "markdown",
   "id": "8d7d6b93",
   "metadata": {},
   "source": [
    "## Aufgabe 5 (Typ C) ##\n",
    "Bei der Versicherung Wucherpfennig richtet sich der Versicherungsbeitrag (Prämie) nach der Höhe der \n",
    "Versicherungssumme. Schreiben Sie ein Programm, das pro Versicherungssumme, die vom Benutzer \n",
    "eingegeben werden soll, die jährliche Prämie entsprechend folgender Prämiensätze berechnet und (auf \n",
    "max. zwei Nachkommastellen gerundet) in einem Antwortsatz ausgibt: \n",
    "Bei  einer  Versicherungssumme  bis  einschl.  5000  Euro  beträgt  der  Prämiensatz  16.8%,  bei  einer  Versicherungssumme,  die  zwischen  5000  (ausschl.)  und  10000  Euro  liegt,  beträgt  der  Prämiensatz     \n",
    "12.6% und über 10000 Euro sind es 8.4 %.     \n",
    "Also Beispiel für Ausgabe: Geben Sie die Versicherungssumme ein: 100     \n",
    "Versicherungssumme = 100.0     \n",
    "Versicherungspraemie = 16.8 "
   ]
  },
  {
   "cell_type": "code",
   "execution_count": null,
   "id": "bb3c2b8d",
   "metadata": {},
   "outputs": [],
   "source": [
    "versicherungssumme= float(input(\"Geben Sie Ihre Versicherungssumme ein: \"))\n",
    "if versicherungssumme <= 5000:\n",
    "    praemiensatz = 0.168\n",
    "elif versicherungssumme <=10000:\n",
    "    praemiensatz = 0.126\n",
    "elif versicherungssumme >10000 :\n",
    "    praemiensatz= 0.084\n",
    "erg=round(versicherungssumme*praemiensatz,2)\n",
    "print(\"Versicherungssumme= \", round(versicherungssumme))\n",
    "print(\"Versicherungpraemie= \", erg)"
   ]
  },
  {
   "cell_type": "markdown",
   "id": "a3617bc9",
   "metadata": {},
   "source": [
    "In der Variable `versicherungssumme`wird der Wert gespeichert, der eingegeben wird durch die Input Funktion. Der Wert wird durch explizite Typkonvertierung in einen Float umgewandelt.\n",
    "Die `if `Anweisung enthält die Bedingung versicherungssumme `kleiner gleich` 5000, dann wird der `praemiensatz 0.168 `verwendet.\n",
    "`elif`ist die Abkürzung für `esle if`, wird angewendet wenn die erste Bedingung false ist, dann wird die folgende Bedingung geprüft: versicherungssumme` kleiner gleich 10000`, dann rechne mit `praemiensatz 0.126`.\n",
    "Die zweite `elif Anweisung`enthält die 3. Bedingung, wenn versicherungssumme `größer als 10000`, dann rechne mit `praemiensatz 0,084`. \n",
    "In der Variable `erg` wird das Ergebnis berechnet. Die Funktion `round()`, rundet die Berechnung(`verischerungssumme* praemiensatz`) auf zwei Nachkommastellen. Das wird mit einem Komma zwei innerhalb der Klammern definiert. \n",
    "In zwei Printanweisungen wird die gewünschte Ausgabe eingerichtet. "
   ]
  },
  {
   "cell_type": "markdown",
   "id": "80e001e0",
   "metadata": {},
   "source": [
    "## Aufgabe 6 (freiwillig, falls noch Zeit, Typ C) ## \n",
    "Schreiben  Sie  ein  Programm,  durch  das  die  Zeichenketten  \"mit  Auszeichnung\",  \"bestanden\",  \"nicht  bestanden\"  je  nach  Wert  der  Variablen  note  (zwischen  1  und  5)  am  Bildschirm  ausgegeben  werden.  \n",
    "Wenn note den Wert 1 hat, soll \"mit Auszeichnung\", bei note = 5 die Zeichenkette \"nicht bestanden\", \n",
    "in allen anderen Fällen \"bestanden\" ausgegeben werden"
   ]
  },
  {
   "cell_type": "code",
   "execution_count": null,
   "id": "6e4a2d31",
   "metadata": {},
   "outputs": [],
   "source": [
    "note= float(input(\"Bitte geben Sie Ihre Note ein: \"))\n",
    "if note ==1 :\n",
    "    print(\"mit Auszeichnung\")\n",
    "elif note >1 and note <5:\n",
    "    print(\"bestanden\")\n",
    "elif note ==5 :\n",
    "    print(\"nicht bestanden\")"
   ]
  },
  {
   "cell_type": "markdown",
   "id": "330d7dd4",
   "metadata": {},
   "source": [
    "Hier ist bei der 2 Anweisung die verknüpfung von zwei Bedingungen die mit dem logischen Operator `and `verknüpft werden. Beide müssen true sein, damit die Bedingung `elif`  true ist. "
   ]
  }
 ],
 "metadata": {
  "kernelspec": {
   "display_name": "Python 3",
   "language": "python",
   "name": "python3"
  },
  "language_info": {
   "codemirror_mode": {
    "name": "ipython",
    "version": 3
   },
   "file_extension": ".py",
   "mimetype": "text/x-python",
   "name": "python",
   "nbconvert_exporter": "python",
   "pygments_lexer": "ipython3",
   "version": "3.8.8"
  }
 },
 "nbformat": 4,
 "nbformat_minor": 5
}
