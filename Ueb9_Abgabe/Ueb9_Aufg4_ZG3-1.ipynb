{
 "cells": [
  {
   "cell_type": "markdown",
   "id": "b73e1537",
   "metadata": {},
   "source": [
    "## Aufgabe 4 (Typ C) ##\n",
    "Schreiben Sie eine while-Schleife, welche von 10 „abwärts“ in 2er-Schritten bis 0 geht und die \n",
    "Zählvariable selbst sowie ihr Quadrat ausgibt:"
   ]
  },
  {
   "cell_type": "code",
   "execution_count": 1,
   "id": "0cf51ec1",
   "metadata": {},
   "outputs": [
    {
     "name": "stdout",
     "output_type": "stream",
     "text": [
      "Zaehlervariable: 10   zum Quadrat: 100\n",
      "Zaehlervariable: 8   zum Quadrat: 64\n",
      "Zaehlervariable: 6   zum Quadrat: 36\n",
      "Zaehlervariable: 4   zum Quadrat: 16\n",
      "Zaehlervariable: 2   zum Quadrat: 4\n",
      "Zaehlervariable: 0   zum Quadrat: 0\n"
     ]
    }
   ],
   "source": [
    "z=10  #Startwert der Abwärtszählung, Zählvariable /Schleifenvariable wird initalisiert.\n",
    "while z >=0:  #Bedingung z größer gleich 0; Bei false wird abgebrochen. Doppelpunkt am Ende der Condition.\n",
    "    print(\"Zaehlervariable: \"+str(z)+\"   zum Quadrat: \"+str(z*z) ) #Solange Bedingung true wird das ausgegeben, Z*Z für das Quadrat.Die Variablen werden durch explizite Typkonvertierung in einen String umgewandelt und mit dem Konkatinationsoperator an den String geknüpft.\n",
    "    z= z-2 #Variable wird verändert, 2 da es in zweier Schritten erfolgen soll,\"-\"damit runter gezählt wird. \n",
    "    #Der Wert der Variable wird nach jedem Schleifendurchlauf verändert."
   ]
  },
  {
   "cell_type": "markdown",
   "id": "0d55931a",
   "metadata": {},
   "source": [
    "## Aufgabe 5 (Typ C) ##\n",
    "Verändern Sie das Programm von Übungsblatt 4, Aufg. 4 a)-c).\n",
    "Lösen Sie die Summation der Listenelemente mit Hilfe einer for-Schleife. Die Ausgabe soll etwa so \n",
    "aussehen wie im Übungsblatt 4 gezeigt.\n",
    "[Tipp: Wenn man der print-Funktion den Parameter end = \"\" übergibt, bleibt der Cursor bei der \n",
    "Ausführung der print-Funktion in der gleichen Zeile, macht also keinen Zeilensprung. \n",
    "Siehe Aufg. 2b]. "
   ]
  },
  {
   "cell_type": "code",
   "execution_count": 2,
   "id": "f59f2989",
   "metadata": {},
   "outputs": [
    {
     "name": "stdout",
     "output_type": "stream",
     "text": [
      "[1, 2, 3, 4]\n",
      "Summe aus :  \t 1 \t 2 \t 3 \t 4 \n",
      " = 10\n"
     ]
    }
   ],
   "source": [
    "#Ueb4 Aufg4 a-c)\n",
    "#a)\n",
    "Liste=[1,2,3,4]\n",
    "#b)\n",
    "print(Liste)\n",
    "#c)Listenwerte addieren\n",
    "summe= Liste[0]+Liste[1]+Liste[2]+Liste[3]#Berechnet die Summe der Elemente der Liste über den Index. Damit ist der code allgemeingültig. Man kann belibig andere Werte in Liste eintragen, sie werden dann immer summiert.\n",
    "print(\"Summe aus : \",\"\\t\" ,Liste[0],\"\\t\",Liste[1],\"\\t\",Liste[2],\"\\t\",Liste[3],\"\\n =\" , summe)#durch Tab wird ein Einruck gemacht, durch \\n ein Zeilenumbruch. "
   ]
  },
  {
   "cell_type": "code",
   "execution_count": 11,
   "id": "d1b5c002",
   "metadata": {},
   "outputs": [
    {
     "name": "stdout",
     "output_type": "stream",
     "text": [
      "[1, 2, 3, 4]\n",
      "Summe aus:1\t2\t3\t4\t\n",
      "= 10\n"
     ]
    }
   ],
   "source": [
    "Liste=[1,2,3,4] #Liste Zeigervariable, verweist auf die Liste\n",
    "print(Liste)  #Printanweisung gibt die Liste aus\n",
    "print(\"Summe aus:\",end=\"\") #Print, Funktionsaufruf gibt String aus, end=\"\" sorgt dafür, dass kein Zeilenumbruch erfolgt\n",
    "summ = 0   #Summ Variable wird initalisiert\n",
    "for elem in Liste:       #for Keyword für ForSchleife, elem Variable durchläuft Liste und speichert den Wert des Elements\n",
    "    summ = summ + elem   # summ und element werden addiert und unter summ gespeichert. Arithmetischer Ausdruck\n",
    "    print(elem, end=\"\\t\") #Funktionsaufruf 1. Argument elem, 2. Argument der optionale Parameter end=\"\", dieser beinhaltet eine Escape Sequenz für Tab, Ausgabe in einer Zeile ohne Umbruch durch end=\"\"\n",
    "print(\"\\n=\",summ) #Funktionsaufruf, Printanweisung, Escape Sequenz \\n erzeugt Zeilenumbruch mit Komma getrennt Variable summ"
   ]
  },
  {
   "cell_type": "markdown",
   "id": "b9ade175",
   "metadata": {},
   "source": [
    "## Aufgabe 6 (freiwillig, falls noch Zeit, Typ C) ##\n",
    "Schreiben Sie ein Programm, das jedem Buchstaben eines von Ihnen festgelegten Wortes einen \n",
    "Schrägstrich anfügt. Benutzen Sie dazu eine for-Schleife. Am Bildschirm soll die ursprüngliche sowie \n",
    "die veränderte Zeichenkette ausgegeben werden also z.B.: \n",
    "Wort vor for-Schleife: Hannover\n",
    "Wort nach for-Schleife: H / a / n / n / o / v / e / r /"
   ]
  },
  {
   "cell_type": "code",
   "execution_count": 11,
   "id": "31163d8f",
   "metadata": {},
   "outputs": [
    {
     "name": "stdout",
     "output_type": "stream",
     "text": [
      "Wort vor for-Schleife: Informatik\n",
      "Wort nach For-Schleife: I / n / f / o / r / m / a / t / i / k / \n"
     ]
    }
   ],
   "source": [
    "wortvorSchleife = \"Informatik\" #\n",
    "print(\"Wort vor for-Schleife:\",wortvorSchleife)\n",
    "print(\"Wort nach For-Schleife: \",end=\"\")\n",
    "wortnachSchleife = \"\"\n",
    "for buchstabe in wortvorSchleife :\n",
    "    wortnachSchleife= wortnachSchleife+ buchstabe +\" / \" \n",
    "\n",
    "print(wortnachSchleife)"
   ]
  },
  {
   "cell_type": "code",
   "execution_count": 10,
   "id": "e5e02a9a",
   "metadata": {},
   "outputs": [
    {
     "name": "stdout",
     "output_type": "stream",
     "text": [
      "Wort vor for-Schleife: Informatik\n",
      "Wort nach For-Schleife: I / n / f / o / r / m / a / t / i / k / \n"
     ]
    }
   ],
   "source": [
    "wortvorSchleife = \"Informatik\"\n",
    "print(\"Wort vor for-Schleife:\",wortvorSchleife)\n",
    "print(\"Wort nach For-Schleife: \",end=\"\")\n",
    "wortnachSchleife = \"\"  #den Anfangswert Leerer String äquvalent zur 0 bei Zahlen\n",
    "for i in range(0,len(wortvorSchleife)): #verschachtelter Funktionsaufruf. \n",
    "    #Python wertet von innen nach außen aus. Funktion len gibt die Länge eines Objektes an. Hier len der Variable\"WortvorSchleife\".range Funktion (1. Argument =0 Startwert),2.Argument die len Funktion(Länge des Strings.)\n",
    "    wortnachSchleife= wortnachSchleife+ wortvorSchleife[i] +\" / \" \n",
    "\n",
    "print(wortnachSchleife)"
   ]
  },
  {
   "cell_type": "code",
   "execution_count": 9,
   "id": "5927121a",
   "metadata": {},
   "outputs": [
    {
     "name": "stdout",
     "output_type": "stream",
     "text": [
      "Wort vor for-Schleife: Hannover\n",
      "Wort nach For-Schleife: H / a / n / n / o / v / e / r / "
     ]
    }
   ],
   "source": [
    "Stadt = 'Hannover' \n",
    "print(\"Wort vor for-Schleife:\",Stadt) #Funktionsaufruf, Printanweisung 1. Argument String, 2. Argument Variable\n",
    "print(\"Wort nach For-Schleife: \",end=\"\")#Funktionsaufruf, Printanweisung 1. Argument String, 2. Argument \n",
    "for c in Stadt:\n",
    "    print(c,\"/ \", end=\"\")\n"
   ]
  },
  {
   "cell_type": "code",
   "execution_count": null,
   "id": "951b95ef",
   "metadata": {},
   "outputs": [],
   "source": []
  }
 ],
 "metadata": {
  "kernelspec": {
   "display_name": "Python 3",
   "language": "python",
   "name": "python3"
  },
  "language_info": {
   "codemirror_mode": {
    "name": "ipython",
    "version": 3
   },
   "file_extension": ".py",
   "mimetype": "text/x-python",
   "name": "python",
   "nbconvert_exporter": "python",
   "pygments_lexer": "ipython3",
   "version": "3.8.8"
  }
 },
 "nbformat": 4,
 "nbformat_minor": 5
}
